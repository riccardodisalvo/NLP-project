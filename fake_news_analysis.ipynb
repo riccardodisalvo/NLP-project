{
  "cells": [
    {
      "cell_type": "code",
      "execution_count": null,
      "metadata": {
        "id": "Jd28FFBEhbZt"
      },
      "outputs": [],
      "source": [
        "import pandas as pd\n",
        "import numpy as np\n",
        "import matplotlib.pyplot as plt\n",
        "import seaborn as sns\n",
        "\n",
        "import re\n",
        "import nltk\n",
        "import contractions\n",
        "from nltk.corpus import wordnet\n",
        "from nltk import pos_tag\n",
        "from nltk.corpus import stopwords\n",
        "from nltk.tokenize import word_tokenize\n",
        "from nltk.stem import WordNetLemmatizer\n",
        "\n",
        "import gensim\n",
        "from gensim.utils import simple_preprocess\n",
        "from gensim.parsing.preprocessing import STOPWORDS\n",
        "import gensim.corpora as corpora\n",
        "from gensim.models import LdaModel\n",
        "from pprint import pprint\n",
        "from gensim.models import CoherenceModel\n",
        "import pickle\n",
        "\n",
        "from sklearn.feature_extraction.text import TfidfVectorizer\n",
        "from sklearn.model_selection import train_test_split\n",
        "from sklearn.linear_model import LogisticRegression\n",
        "from sklearn.metrics import classification_report, accuracy_score, confusion_matrix as cm\n",
        "from sklearn.naive_bayes import MultinomialNB"
      ]
    },
    {
      "cell_type": "code",
      "execution_count": null,
      "metadata": {
        "id": "2ty03bXRo-oh"
      },
      "outputs": [],
      "source": [
        "df_fake_news = pd.read_csv('Fake.csv')"
      ]
    },
    {
      "cell_type": "code",
      "execution_count": null,
      "metadata": {
        "id": "zil9qKNNptlm"
      },
      "outputs": [],
      "source": [
        "df_true_news = pd.read_csv('True.csv')"
      ]
    },
    {
      "cell_type": "code",
      "execution_count": null,
      "metadata": {
        "colab": {
          "base_uri": "https://localhost:8080/"
        },
        "id": "3vAv-SF2o-sa",
        "outputId": "01ee5bc0-b00f-44c5-a5ca-f023036538ef"
      },
      "outputs": [
        {
          "output_type": "stream",
          "name": "stdout",
          "text": [
            "<class 'pandas.core.frame.DataFrame'>\n",
            "RangeIndex: 23481 entries, 0 to 23480\n",
            "Data columns (total 4 columns):\n",
            " #   Column   Non-Null Count  Dtype \n",
            "---  ------   --------------  ----- \n",
            " 0   title    23481 non-null  object\n",
            " 1   text     23481 non-null  object\n",
            " 2   subject  23481 non-null  object\n",
            " 3   date     23481 non-null  object\n",
            "dtypes: object(4)\n",
            "memory usage: 733.9+ KB\n"
          ]
        }
      ],
      "source": [
        "df_fake_news.info()"
      ]
    },
    {
      "cell_type": "code",
      "execution_count": null,
      "metadata": {
        "colab": {
          "base_uri": "https://localhost:8080/"
        },
        "id": "jYh-TjbLo-vG",
        "outputId": "e316dfbb-ef66-42f6-b264-5a44ac8820ab"
      },
      "outputs": [
        {
          "output_type": "stream",
          "name": "stdout",
          "text": [
            "<class 'pandas.core.frame.DataFrame'>\n",
            "RangeIndex: 21417 entries, 0 to 21416\n",
            "Data columns (total 4 columns):\n",
            " #   Column   Non-Null Count  Dtype \n",
            "---  ------   --------------  ----- \n",
            " 0   title    21417 non-null  object\n",
            " 1   text     21417 non-null  object\n",
            " 2   subject  21417 non-null  object\n",
            " 3   date     21417 non-null  object\n",
            "dtypes: object(4)\n",
            "memory usage: 669.4+ KB\n"
          ]
        }
      ],
      "source": [
        "df_true_news.info()"
      ]
    },
    {
      "cell_type": "code",
      "execution_count": null,
      "metadata": {
        "id": "KcaGHKtdqCcN"
      },
      "outputs": [],
      "source": [
        "df_fake_news['type_news'] = 'fake' # 0\n",
        "df_true_news['type_news'] = 'true' # 1"
      ]
    },
    {
      "cell_type": "code",
      "execution_count": null,
      "metadata": {
        "colab": {
          "base_uri": "https://localhost:8080/",
          "height": 300
        },
        "id": "6LEnKu_gqCe9",
        "outputId": "d7fb5368-2166-49db-dc38-79901b05b06c"
      },
      "outputs": [
        {
          "output_type": "execute_result",
          "data": {
            "text/plain": [
              "                                                   title  \\\n",
              "31409  Proposed U.S. anti-inversion rules enter final...   \n",
              "22710  Bundy Case Ruled a Mistrial – Will Federal Cas...   \n",
              "34394  Obama budget envisions $2.9 trillion in 10-yea...   \n",
              "19811  BREAKING: VIOLENT HILLARY THUGS Beat Man Holdi...   \n",
              "13862  BUMBLING BILL CLINTON Manages To Insult Poland...   \n",
              "38811  Senior Thai royal official dismissed in latest...   \n",
              "34232  At Scalia funeral, led by son, U.S. court batt...   \n",
              "14300  YES! SHERIFF CALLS OUT HILLARY CLINTON For Bla...   \n",
              "\n",
              "                                                    text       subject  \\\n",
              "31409  WASHINGTON (Reuters) - U.S. regulations, propo...  politicsNews   \n",
              "22710  Mark Anderson  21st Century WireThe Greek phil...   Middle-east   \n",
              "34394  WASHINGTON (Reuters) - President Barack Obama ...  politicsNews   \n",
              "19811  Protester with  Rape  sign is tackled at #Clin...     left-news   \n",
              "13862  The Clinton Campaign just managed to commit th...      politics   \n",
              "38811  BANGKOK (Reuters) - Thailand s Royal Household...     worldnews   \n",
              "34232  WASHINGTON (Reuters) - U.S. Supreme Court Just...  politicsNews   \n",
              "14300  Hillary and Bernie are pandering to the Hispan...      politics   \n",
              "\n",
              "                     date type_news  \n",
              "31409    October 4, 2016       true  \n",
              "22710   December 21, 2017      fake  \n",
              "34394   February 9, 2016       true  \n",
              "19811        Oct 13, 2016      fake  \n",
              "13862        May 21, 2016      fake  \n",
              "38811   November 8, 2017       true  \n",
              "34232  February 20, 2016       true  \n",
              "14300        Mar 14, 2016      fake  "
            ],
            "text/html": [
              "\n",
              "  <div id=\"df-e9684bad-497d-4afb-9d5b-210281874985\" class=\"colab-df-container\">\n",
              "    <div>\n",
              "<style scoped>\n",
              "    .dataframe tbody tr th:only-of-type {\n",
              "        vertical-align: middle;\n",
              "    }\n",
              "\n",
              "    .dataframe tbody tr th {\n",
              "        vertical-align: top;\n",
              "    }\n",
              "\n",
              "    .dataframe thead th {\n",
              "        text-align: right;\n",
              "    }\n",
              "</style>\n",
              "<table border=\"1\" class=\"dataframe\">\n",
              "  <thead>\n",
              "    <tr style=\"text-align: right;\">\n",
              "      <th></th>\n",
              "      <th>title</th>\n",
              "      <th>text</th>\n",
              "      <th>subject</th>\n",
              "      <th>date</th>\n",
              "      <th>type_news</th>\n",
              "    </tr>\n",
              "  </thead>\n",
              "  <tbody>\n",
              "    <tr>\n",
              "      <th>31409</th>\n",
              "      <td>Proposed U.S. anti-inversion rules enter final...</td>\n",
              "      <td>WASHINGTON (Reuters) - U.S. regulations, propo...</td>\n",
              "      <td>politicsNews</td>\n",
              "      <td>October 4, 2016</td>\n",
              "      <td>true</td>\n",
              "    </tr>\n",
              "    <tr>\n",
              "      <th>22710</th>\n",
              "      <td>Bundy Case Ruled a Mistrial – Will Federal Cas...</td>\n",
              "      <td>Mark Anderson  21st Century WireThe Greek phil...</td>\n",
              "      <td>Middle-east</td>\n",
              "      <td>December 21, 2017</td>\n",
              "      <td>fake</td>\n",
              "    </tr>\n",
              "    <tr>\n",
              "      <th>34394</th>\n",
              "      <td>Obama budget envisions $2.9 trillion in 10-yea...</td>\n",
              "      <td>WASHINGTON (Reuters) - President Barack Obama ...</td>\n",
              "      <td>politicsNews</td>\n",
              "      <td>February 9, 2016</td>\n",
              "      <td>true</td>\n",
              "    </tr>\n",
              "    <tr>\n",
              "      <th>19811</th>\n",
              "      <td>BREAKING: VIOLENT HILLARY THUGS Beat Man Holdi...</td>\n",
              "      <td>Protester with  Rape  sign is tackled at #Clin...</td>\n",
              "      <td>left-news</td>\n",
              "      <td>Oct 13, 2016</td>\n",
              "      <td>fake</td>\n",
              "    </tr>\n",
              "    <tr>\n",
              "      <th>13862</th>\n",
              "      <td>BUMBLING BILL CLINTON Manages To Insult Poland...</td>\n",
              "      <td>The Clinton Campaign just managed to commit th...</td>\n",
              "      <td>politics</td>\n",
              "      <td>May 21, 2016</td>\n",
              "      <td>fake</td>\n",
              "    </tr>\n",
              "    <tr>\n",
              "      <th>38811</th>\n",
              "      <td>Senior Thai royal official dismissed in latest...</td>\n",
              "      <td>BANGKOK (Reuters) - Thailand s Royal Household...</td>\n",
              "      <td>worldnews</td>\n",
              "      <td>November 8, 2017</td>\n",
              "      <td>true</td>\n",
              "    </tr>\n",
              "    <tr>\n",
              "      <th>34232</th>\n",
              "      <td>At Scalia funeral, led by son, U.S. court batt...</td>\n",
              "      <td>WASHINGTON (Reuters) - U.S. Supreme Court Just...</td>\n",
              "      <td>politicsNews</td>\n",
              "      <td>February 20, 2016</td>\n",
              "      <td>true</td>\n",
              "    </tr>\n",
              "    <tr>\n",
              "      <th>14300</th>\n",
              "      <td>YES! SHERIFF CALLS OUT HILLARY CLINTON For Bla...</td>\n",
              "      <td>Hillary and Bernie are pandering to the Hispan...</td>\n",
              "      <td>politics</td>\n",
              "      <td>Mar 14, 2016</td>\n",
              "      <td>fake</td>\n",
              "    </tr>\n",
              "  </tbody>\n",
              "</table>\n",
              "</div>\n",
              "    <div class=\"colab-df-buttons\">\n",
              "\n",
              "  <div class=\"colab-df-container\">\n",
              "    <button class=\"colab-df-convert\" onclick=\"convertToInteractive('df-e9684bad-497d-4afb-9d5b-210281874985')\"\n",
              "            title=\"Convert this dataframe to an interactive table.\"\n",
              "            style=\"display:none;\">\n",
              "\n",
              "  <svg xmlns=\"http://www.w3.org/2000/svg\" height=\"24px\" viewBox=\"0 -960 960 960\">\n",
              "    <path d=\"M120-120v-720h720v720H120Zm60-500h600v-160H180v160Zm220 220h160v-160H400v160Zm0 220h160v-160H400v160ZM180-400h160v-160H180v160Zm440 0h160v-160H620v160ZM180-180h160v-160H180v160Zm440 0h160v-160H620v160Z\"/>\n",
              "  </svg>\n",
              "    </button>\n",
              "\n",
              "  <style>\n",
              "    .colab-df-container {\n",
              "      display:flex;\n",
              "      gap: 12px;\n",
              "    }\n",
              "\n",
              "    .colab-df-convert {\n",
              "      background-color: #E8F0FE;\n",
              "      border: none;\n",
              "      border-radius: 50%;\n",
              "      cursor: pointer;\n",
              "      display: none;\n",
              "      fill: #1967D2;\n",
              "      height: 32px;\n",
              "      padding: 0 0 0 0;\n",
              "      width: 32px;\n",
              "    }\n",
              "\n",
              "    .colab-df-convert:hover {\n",
              "      background-color: #E2EBFA;\n",
              "      box-shadow: 0px 1px 2px rgba(60, 64, 67, 0.3), 0px 1px 3px 1px rgba(60, 64, 67, 0.15);\n",
              "      fill: #174EA6;\n",
              "    }\n",
              "\n",
              "    .colab-df-buttons div {\n",
              "      margin-bottom: 4px;\n",
              "    }\n",
              "\n",
              "    [theme=dark] .colab-df-convert {\n",
              "      background-color: #3B4455;\n",
              "      fill: #D2E3FC;\n",
              "    }\n",
              "\n",
              "    [theme=dark] .colab-df-convert:hover {\n",
              "      background-color: #434B5C;\n",
              "      box-shadow: 0px 1px 3px 1px rgba(0, 0, 0, 0.15);\n",
              "      filter: drop-shadow(0px 1px 2px rgba(0, 0, 0, 0.3));\n",
              "      fill: #FFFFFF;\n",
              "    }\n",
              "  </style>\n",
              "\n",
              "    <script>\n",
              "      const buttonEl =\n",
              "        document.querySelector('#df-e9684bad-497d-4afb-9d5b-210281874985 button.colab-df-convert');\n",
              "      buttonEl.style.display =\n",
              "        google.colab.kernel.accessAllowed ? 'block' : 'none';\n",
              "\n",
              "      async function convertToInteractive(key) {\n",
              "        const element = document.querySelector('#df-e9684bad-497d-4afb-9d5b-210281874985');\n",
              "        const dataTable =\n",
              "          await google.colab.kernel.invokeFunction('convertToInteractive',\n",
              "                                                    [key], {});\n",
              "        if (!dataTable) return;\n",
              "\n",
              "        const docLinkHtml = 'Like what you see? Visit the ' +\n",
              "          '<a target=\"_blank\" href=https://colab.research.google.com/notebooks/data_table.ipynb>data table notebook</a>'\n",
              "          + ' to learn more about interactive tables.';\n",
              "        element.innerHTML = '';\n",
              "        dataTable['output_type'] = 'display_data';\n",
              "        await google.colab.output.renderOutput(dataTable, element);\n",
              "        const docLink = document.createElement('div');\n",
              "        docLink.innerHTML = docLinkHtml;\n",
              "        element.appendChild(docLink);\n",
              "      }\n",
              "    </script>\n",
              "  </div>\n",
              "\n",
              "\n",
              "<div id=\"df-beb9d465-0c69-414b-88a4-91ae5ae6c4c3\">\n",
              "  <button class=\"colab-df-quickchart\" onclick=\"quickchart('df-beb9d465-0c69-414b-88a4-91ae5ae6c4c3')\"\n",
              "            title=\"Suggest charts\"\n",
              "            style=\"display:none;\">\n",
              "\n",
              "<svg xmlns=\"http://www.w3.org/2000/svg\" height=\"24px\"viewBox=\"0 0 24 24\"\n",
              "     width=\"24px\">\n",
              "    <g>\n",
              "        <path d=\"M19 3H5c-1.1 0-2 .9-2 2v14c0 1.1.9 2 2 2h14c1.1 0 2-.9 2-2V5c0-1.1-.9-2-2-2zM9 17H7v-7h2v7zm4 0h-2V7h2v10zm4 0h-2v-4h2v4z\"/>\n",
              "    </g>\n",
              "</svg>\n",
              "  </button>\n",
              "\n",
              "<style>\n",
              "  .colab-df-quickchart {\n",
              "      --bg-color: #E8F0FE;\n",
              "      --fill-color: #1967D2;\n",
              "      --hover-bg-color: #E2EBFA;\n",
              "      --hover-fill-color: #174EA6;\n",
              "      --disabled-fill-color: #AAA;\n",
              "      --disabled-bg-color: #DDD;\n",
              "  }\n",
              "\n",
              "  [theme=dark] .colab-df-quickchart {\n",
              "      --bg-color: #3B4455;\n",
              "      --fill-color: #D2E3FC;\n",
              "      --hover-bg-color: #434B5C;\n",
              "      --hover-fill-color: #FFFFFF;\n",
              "      --disabled-bg-color: #3B4455;\n",
              "      --disabled-fill-color: #666;\n",
              "  }\n",
              "\n",
              "  .colab-df-quickchart {\n",
              "    background-color: var(--bg-color);\n",
              "    border: none;\n",
              "    border-radius: 50%;\n",
              "    cursor: pointer;\n",
              "    display: none;\n",
              "    fill: var(--fill-color);\n",
              "    height: 32px;\n",
              "    padding: 0;\n",
              "    width: 32px;\n",
              "  }\n",
              "\n",
              "  .colab-df-quickchart:hover {\n",
              "    background-color: var(--hover-bg-color);\n",
              "    box-shadow: 0 1px 2px rgba(60, 64, 67, 0.3), 0 1px 3px 1px rgba(60, 64, 67, 0.15);\n",
              "    fill: var(--button-hover-fill-color);\n",
              "  }\n",
              "\n",
              "  .colab-df-quickchart-complete:disabled,\n",
              "  .colab-df-quickchart-complete:disabled:hover {\n",
              "    background-color: var(--disabled-bg-color);\n",
              "    fill: var(--disabled-fill-color);\n",
              "    box-shadow: none;\n",
              "  }\n",
              "\n",
              "  .colab-df-spinner {\n",
              "    border: 2px solid var(--fill-color);\n",
              "    border-color: transparent;\n",
              "    border-bottom-color: var(--fill-color);\n",
              "    animation:\n",
              "      spin 1s steps(1) infinite;\n",
              "  }\n",
              "\n",
              "  @keyframes spin {\n",
              "    0% {\n",
              "      border-color: transparent;\n",
              "      border-bottom-color: var(--fill-color);\n",
              "      border-left-color: var(--fill-color);\n",
              "    }\n",
              "    20% {\n",
              "      border-color: transparent;\n",
              "      border-left-color: var(--fill-color);\n",
              "      border-top-color: var(--fill-color);\n",
              "    }\n",
              "    30% {\n",
              "      border-color: transparent;\n",
              "      border-left-color: var(--fill-color);\n",
              "      border-top-color: var(--fill-color);\n",
              "      border-right-color: var(--fill-color);\n",
              "    }\n",
              "    40% {\n",
              "      border-color: transparent;\n",
              "      border-right-color: var(--fill-color);\n",
              "      border-top-color: var(--fill-color);\n",
              "    }\n",
              "    60% {\n",
              "      border-color: transparent;\n",
              "      border-right-color: var(--fill-color);\n",
              "    }\n",
              "    80% {\n",
              "      border-color: transparent;\n",
              "      border-right-color: var(--fill-color);\n",
              "      border-bottom-color: var(--fill-color);\n",
              "    }\n",
              "    90% {\n",
              "      border-color: transparent;\n",
              "      border-bottom-color: var(--fill-color);\n",
              "    }\n",
              "  }\n",
              "</style>\n",
              "\n",
              "  <script>\n",
              "    async function quickchart(key) {\n",
              "      const quickchartButtonEl =\n",
              "        document.querySelector('#' + key + ' button');\n",
              "      quickchartButtonEl.disabled = true;  // To prevent multiple clicks.\n",
              "      quickchartButtonEl.classList.add('colab-df-spinner');\n",
              "      try {\n",
              "        const charts = await google.colab.kernel.invokeFunction(\n",
              "            'suggestCharts', [key], {});\n",
              "      } catch (error) {\n",
              "        console.error('Error during call to suggestCharts:', error);\n",
              "      }\n",
              "      quickchartButtonEl.classList.remove('colab-df-spinner');\n",
              "      quickchartButtonEl.classList.add('colab-df-quickchart-complete');\n",
              "    }\n",
              "    (() => {\n",
              "      let quickchartButtonEl =\n",
              "        document.querySelector('#df-beb9d465-0c69-414b-88a4-91ae5ae6c4c3 button');\n",
              "      quickchartButtonEl.style.display =\n",
              "        google.colab.kernel.accessAllowed ? 'block' : 'none';\n",
              "    })();\n",
              "  </script>\n",
              "</div>\n",
              "\n",
              "    </div>\n",
              "  </div>\n"
            ],
            "application/vnd.google.colaboratory.intrinsic+json": {
              "type": "dataframe",
              "summary": "{\n  \"name\": \"df\",\n  \"rows\": 8,\n  \"fields\": [\n    {\n      \"column\": \"title\",\n      \"properties\": {\n        \"dtype\": \"string\",\n        \"num_unique_values\": 8,\n        \"samples\": [\n          \"Bundy Case Ruled a Mistrial \\u2013 Will Federal Case Soon Crumble?\",\n          \"Senior Thai royal official dismissed in latest shake-up: palace\",\n          \"Proposed U.S. anti-inversion rules enter final review\"\n        ],\n        \"semantic_type\": \"\",\n        \"description\": \"\"\n      }\n    },\n    {\n      \"column\": \"text\",\n      \"properties\": {\n        \"dtype\": \"string\",\n        \"num_unique_values\": 8,\n        \"samples\": [\n          \"Mark Anderson  21st Century WireThe Greek philosopher Plato was credited with saying,  Justice in the life and conduct of the State is possible only as first it resides in the hearts and souls of the citizens. Well, since longtime Nevada rancher Cliven Bundy, his sons, and his other compatriots have demonstrated they possess a strong sense of principles and justice, perhaps a little justice in the life of the American state is possible which is no small thing in an age of nearly universal tyranny and injustice.This welcome ray of light became apparent in Las Vegas on Dec. 20 when U.S. District Judge Gloria Navarro declared a mistrial in the current high-profile proceedings involving Cliven, his sons Ryan and Ammon, and Ryan Payne.This prompted members of the Bundy family and dozens of their supporters to leave the courthouse on that Tuesday in a state of elation, even with the presence of protesters who, holding signs that read,  Keep your Bundy hands off public lands,  appeared to be paid agitators for billionaire leftist revolutionary George Soros, as one protestor basically admitted.Back in the spring of 2014, the above-named four defendants who ve become emblematic of the plight of Western ranchers resisting heavy-handed federal land controls were accompanied by other Bundy siblings, and by scores of supporters from across the nation, all of whom gathered near Cliven s ranch in Clark County, in southern Nevada, to exercise their First and Second Amendment rights.On that basis, these brave souls, some of whom were armed in an open-carry state, protested the actions of well-armed Bureau of Land Management agents, FBI agents (including SWAT units) and contractors, when these officials showed up, set up shop, and finally moved to impound Cliven s cattle over flimsy allegations of unpaid grazing fees on public lands. The impoundment attempt, on April 12, 2014, was unsuccessful, however.But while the government retreated that day after a lengthy and often tense standoff, a 16-count federal indictment was eventually handed down. Cliven, Ammon and the two Ryans were among nearly 20 initially indicted in this now-legendary federal case, which hasn t gone particularly well for prosecutors ever since the first of several planned trials started in February of 2017.Thus, the government, despite spending millions of dollars, has seen its case steadily deflate to the point where, as of now, the only things that remain, according to a legal observer, are for Judge Navarro to receive briefs from the prosecution and the defense by 5 p.m. Dec. 29 (when a hearing may take place). Those briefs will consist of arguments to enable the judge to decide whether or not to fully dismiss the case.The mistrial happened around 9:30 a.m. Pacific Time Dec. 20, as  Navarro told the jury to  go home . . . it s over,  recounted Roger Roots, a legal expert and author who has observed virtually every trial proceeding firsthand.He said that after Judge Navarro reviews the briefs, an open hearing will be convened at 9 a.m. on Jan. 8, according to the court schedule as of this writing. If she rules for dismissal Jan. 8  without prejudice,  the indictment remains in force and federal prosecutors technically could reset the trial of Cliven and the three others, reportedly on or around Feb. 26. But if she rules for dismissal  with prejudice,  then the indictment is dissolved, according to Roots.Roots said a dissolved indictment would mean the government would have to go to the trouble and expense of convening a new grand jury in order to seek a new indictment which would be  double jeopardy  and therefore a probable constitutional violation.And while Roots said the government conceivably could appeal the mistrial ruling to the Ninth Circuit, at this point he does not believe the government would jump through all the necessary hoops for a new indictment.Notably, what helped make the mistrial a reality was Navarro s findings (reached during hearings on exculpatory evidence that the government has been withholding) that the prosecution had committed several Brady v Maryland violations including not disclosing to the defense the existence of surveillance cameras, including those trained at the Bundy homestead.Also included is not disclosing the fact that concealed snipers were stationed around the area at the time of the 2014 standoff; not disclosing the existence of maps of the snipers  positions; and, among other things, not disclosing threat-assessment reports which include government admissions that Cliven and company are not dangerous people.SEE ALSO: Nevada Residents:  Public Land Belongs to the People, Not DC Notably, family patriarch Cliven, as a matter of principle, stayed in prison despite a recent hearing in which the court allowed him to leave jail under house arrest. He has been jailed since early 2016 and has suffered from health problems.Cliven based his decision on the fact that a few remaining defendants which had included his sons Mel and Dave until they, too, were granted house arrest are still in jail awaiting a final trial that s been scheduled to take place sometime next year. Moreover, Ryan and Ammon Bundy, as well as Ryan Payne, all were recently released under house-arrest rulings, after an equally grueling amount of time behind bars.During a recent on-the-air interview, Cliven s daughter-in-law Briana, who s Mel s wife, told Free Speech Zone host Jim Lambley of KSDZ-FM  The Twister  out of Nebraska that in the almost two years that Cliven has been behind bars, several more grandchildren of his were born. Yet Cliven, despite such a strong emotional attachment to his large family, still chose to remain in jail to honor the others still imprisoned.On a Dec. 20 appearance on the same radio show, Briana added,  Over 3,300 hundred pages of evidence that could ve helped the defense have been withheld and have been turned over to the defense in the last two weeks . . . . It was absolutely intentional and she [Judge Navarro] said she believes it was intentional because of what they withheld. Briana, who understands that even one, let alone several Brady violations, normally would be expected to lead to a full dismissal of the case right away (rather than carrying on with more hearings) added, however, that the Bundy siblings all are wearing electronic ankle bracelets and cannot leave their house-arrest locations before 7 a.m. and must return by 7 p.m., even while they are prohibited from congregating during Christmastime. But we re still winning here,  Briana went on to tell KSDZ host Jim Lambley, while adding that even though a dismissal was hoped-for, rather than a mistrial, the upside is that any further proceedings will provide an opportunity to expose even more evidence that the government has withheld.Lambley replied:  The government is just digging a deeper hole for themselves; the government is the false accuser here, that s all there is to it. Mr. Roots, who s cautiously optimistic about the remainder of this case, said that given the mistrial ruling, the few defendants still behind bars have a dramatically improved chance of never going to trial. Cliven won t go home until this case is all the way over,  Roots remarked, moved by Cliven s ironclad principles.This article was originally published at The Truth HoundREAD MORE BUNDY RANCH NEWS AT: 21st Century Wire Bundy Ranch FilesSUPPORT 21WIRE   SUBSCRIBE & BECOME A MEMBER @21WIRE.TV\",\n          \"BANGKOK (Reuters) - Thailand s Royal Household Bureau has dismissed a top palace official for  extremely evil behavior , a note on Wednesday said, in what appears to be the latest shake-up under new King Maha Vajiralongkorn. The removal of Grand Chamberlain Distorn Vajarodaya, whose role is to manage the royal household, was announced by the palace in a document dated Nov. 6, media reported. The document lists things that Distorn allegedly did including falsifying a 25 million baht ($754,830) charity receipt for royal honors and tax evasion in the name of the crown.  The Bureau of the Royal Household deemed Distorn s ... acts as disciplinary misconducts considered as extremely evil behavior deserving of dismissal from the civil service,  the royal household bureau said. A palace official told Reuters on Wednesday that she was unable to comment on the matter. Reuters was unable to reach Distorn for comment. Distorn s dismissal is the latest sign of the new king s assertiveness and part of an ongoing purge of officials who the palace says did not perform or behave according to their rank. King Vajiralongkorn, 65, who inherited the throne last year following the death of his father, King Bhumibol Adulyadej, has set about reordering the palace, including the way its finances are managed.  In February, a top palace official was also fired for   extremely evil  misconduct. Late King Bhumibol died in Oct. 2016 aged 88 after ruling for seven decades. During his reign, he helped revive the prestige of the monarchy with the help of a powerful palace public relations machine. He was cremated on Oct. 26 after a year of mourning. The funeral was attended by hundreds of thousands of people who thronged Bangkok s historic area to watch a series of spectacular processions and ancient Buddhist and Hindu rites and say goodbye. \",\n          \"WASHINGTON (Reuters) - U.S. regulations, proposed by the Treasury to crack down on companies that try to reduce taxes by rebasing abroad, have begun a White House review and could be finalized shortly, officials said on Tuesday. The regulations, which would make it difficult for U.S. business operations to avoid taxation while shifting profits overseas through a practice called \\u201cearnings stripping,\\u201d were received by the White House Office of Management and Budget (OMB) last week. The agency has up to 90 days to decide whether the rules should be finalized or returned to Treasury for further consideration. \\u201cWe are satisfied we have addressed stakeholder feedback and are close to issuing final earnings stripping regulations,\\u201d a Treasury spokesperson said. The Obama administration has faced widespread criticism from the business community over its regulatory assault on tax inversions, which are tax-driven mergers in which a U.S. company acquires a smaller, foreign business in a low-tax country and shifts its headquarters there, if only on paper, to avoid higher U.S. taxes.    Business and industry groups have threatened lawsuits and called for the new rules to be withdrawn or heavily revised because of what critics say is the potential for unintended harm to business. Members of Congress have also accused the administration of overstepping its legal authority. Earnings stripping occurs when an inverted company eludes U.S. taxes on its domestic operation by shifting profits overseas in the form of tax-deductible interest payments to its foreign parent. The new rules would change certain interest payments into equity dividends, which are not tax deductible in the United States.  The regulations were proposed in April, along with a temporary rule to prevent serial inversion deals by foreign companies. That rule, which is already the target of a lawsuit, has not yet been forwarded to OMB. \"\n        ],\n        \"semantic_type\": \"\",\n        \"description\": \"\"\n      }\n    },\n    {\n      \"column\": \"subject\",\n      \"properties\": {\n        \"dtype\": \"string\",\n        \"num_unique_values\": 5,\n        \"samples\": [\n          \"Middle-east\",\n          \"worldnews\",\n          \"left-news\"\n        ],\n        \"semantic_type\": \"\",\n        \"description\": \"\"\n      }\n    },\n    {\n      \"column\": \"date\",\n      \"properties\": {\n        \"dtype\": \"string\",\n        \"num_unique_values\": 8,\n        \"samples\": [\n          \"December 21, 2017\",\n          \"November 8, 2017 \",\n          \"October 4, 2016 \"\n        ],\n        \"semantic_type\": \"\",\n        \"description\": \"\"\n      }\n    },\n    {\n      \"column\": \"type_news\",\n      \"properties\": {\n        \"dtype\": \"category\",\n        \"num_unique_values\": 2,\n        \"samples\": [\n          \"fake\",\n          \"true\"\n        ],\n        \"semantic_type\": \"\",\n        \"description\": \"\"\n      }\n    }\n  ]\n}"
            }
          },
          "metadata": {},
          "execution_count": 7
        }
      ],
      "source": [
        "\"\"\" unisco i dataset formando un unico df\n",
        "\"\"\"\n",
        "df = pd.concat([df_fake_news, df_true_news], ignore_index=True)\n",
        "df.sample(8)"
      ]
    },
    {
      "cell_type": "code",
      "execution_count": null,
      "metadata": {
        "colab": {
          "base_uri": "https://localhost:8080/"
        },
        "id": "XV-dApqYqChv",
        "outputId": "d7fbae55-7f90-4d4d-d95c-4d0bb881672d"
      },
      "outputs": [
        {
          "output_type": "stream",
          "name": "stdout",
          "text": [
            "<class 'pandas.core.frame.DataFrame'>\n",
            "RangeIndex: 44898 entries, 0 to 44897\n",
            "Data columns (total 5 columns):\n",
            " #   Column     Non-Null Count  Dtype \n",
            "---  ------     --------------  ----- \n",
            " 0   title      44898 non-null  object\n",
            " 1   text       44898 non-null  object\n",
            " 2   subject    44898 non-null  object\n",
            " 3   date       44898 non-null  object\n",
            " 4   type_news  44898 non-null  object\n",
            "dtypes: object(5)\n",
            "memory usage: 1.7+ MB\n"
          ]
        }
      ],
      "source": [
        "df.info()"
      ]
    },
    {
      "cell_type": "code",
      "execution_count": null,
      "metadata": {
        "id": "xbg_qHoiqCkN"
      },
      "outputs": [],
      "source": [
        "\"\"\" creo una copia su cui svolgere le attività del progetto\n",
        "\"\"\"\n",
        "\n",
        "df_copy = df.copy()"
      ]
    },
    {
      "cell_type": "code",
      "execution_count": null,
      "metadata": {
        "colab": {
          "base_uri": "https://localhost:8080/"
        },
        "id": "U_kCepqcreVz",
        "outputId": "834c602a-4c99-4dbc-c277-ff3a7788a4b4"
      },
      "outputs": [
        {
          "output_type": "stream",
          "name": "stdout",
          "text": [
            "631 blanks: [10923, 11041, 11190, 11225, 11236, 11241, 11247, 11249, 11267, 11268, 11283, 11284, 11285, 11289, 11290, 11292, 11295, 11296, 11301, 11303, 11304, 11305, 11309, 11314, 11317, 11319, 11322, 11330, 11334, 11335, 11340, 11343, 11348, 11351, 11352, 11357, 11371, 11373, 11374, 11382, 11397, 11402, 11403, 11409, 11410, 11412, 11415, 11419, 11421, 11427, 11431, 11432, 11440, 11448, 11450, 11453, 11462, 11464, 11465, 11472, 11473, 11475, 11478, 11489, 11491, 11493, 11494, 11501, 11505, 11507, 11520, 11531, 11532, 11533, 11538, 11542, 11547, 11549, 11551, 11559, 11563, 11581, 11585, 11589, 11590, 11614, 11624, 11625, 11627, 11631, 11636, 11637, 11643, 11650, 11658, 11661, 11672, 11679, 11681, 11684, 11686, 11688, 11692, 11708, 11718, 11729, 11739, 11753, 11765, 11768, 11777, 11782, 11786, 11788, 11792, 11793, 11803, 11806, 11813, 11821, 11831, 11832, 11841, 11844, 11848, 11854, 11858, 11860, 11863, 11866, 11872, 11874, 11875, 11879, 11881, 11884, 11889, 11893, 11900, 11904, 11906, 11913, 11914, 11915, 11922, 11923, 11929, 11930, 11934, 11936, 11943, 11957, 11960, 11971, 11981, 11988, 11989, 11990, 11996, 11998, 12007, 12011, 12025, 12026, 12028, 12038, 12039, 12055, 12067, 12072, 12074, 12076, 12088, 12097, 12100, 12108, 12109, 12111, 12114, 12116, 12117, 12118, 12120, 12122, 12133, 12136, 12137, 12138, 12141, 12144, 12148, 12150, 12156, 12161, 12163, 12192, 12197, 12203, 12208, 12217, 12218, 12224, 12225, 12229, 12233, 12237, 12241, 12244, 12247, 12249, 12257, 12261, 12268, 12270, 12271, 12276, 12283, 12284, 12286, 12294, 12296, 12297, 12304, 12305, 12308, 12309, 12312, 12313, 12314, 12319, 12324, 12330, 12336, 12339, 12341, 12344, 12350, 12352, 12353, 12360, 12369, 12370, 12371, 12376, 12379, 12381, 12385, 12386, 12387, 12392, 12404, 12409, 12410, 12413, 12419, 12422, 12424, 12430, 12431, 12432, 12437, 12441, 12442, 12445, 12446, 12458, 12465, 12467, 12469, 12473, 12474, 12486, 12493, 12494, 12495, 12502, 12505, 12508, 12511, 12512, 12520, 12532, 12546, 12554, 12558, 12560, 12566, 12572, 12580, 12584, 12585, 12587, 12603, 12605, 12615, 12631, 12643, 12647, 12654, 12655, 12659, 12661, 12662, 12671, 12675, 12679, 12681, 12685, 12697, 12698, 12708, 12715, 12716, 12733, 12739, 12740, 12750, 12757, 12779, 12783, 12785, 12787, 12792, 12798, 12799, 12800, 12802, 12825, 12831, 12838, 12839, 12844, 12862, 12871, 12882, 12899, 12901, 12909, 12914, 12918, 12921, 12939, 12940, 12941, 12982, 12985, 12992, 13005, 13008, 13014, 13017, 13030, 13037, 13044, 13045, 13049, 13050, 13060, 13069, 13073, 13080, 13086, 13088, 13093, 13098, 13108, 13118, 13122, 13474, 13614, 13666, 13963, 14086, 14282, 14289, 14320, 14416, 15363, 15597, 15639, 15641, 15642, 15660, 15661, 15664, 15666, 15673, 15674, 15682, 15693, 15698, 15700, 15705, 15709, 15710, 15718, 15719, 15728, 15747, 15749, 15760, 15771, 15772, 15785, 15786, 15788, 15824, 15842, 16165, 16166, 16173, 16178, 16180, 16182, 16183, 16185, 16189, 16190, 16192, 16193, 16194, 16196, 16199, 16203, 16212, 16214, 16218, 16219, 16220, 16228, 16235, 16245, 16250, 16255, 16258, 16259, 16264, 16267, 16268, 16273, 16287, 16296, 16298, 16301, 16306, 16309, 16313, 16314, 16318, 16327, 16329, 16336, 16343, 16346, 16356, 16358, 16366, 16368, 16377, 16380, 16407, 16408, 16411, 16415, 16418, 16425, 16744, 16987, 17246, 17270, 17290, 17348, 17354, 17355, 17356, 17362, 17373, 17375, 17387, 17418, 18653, 18747, 18856, 18882, 18886, 18897, 18904, 18906, 18914, 18915, 18916, 18922, 18924, 18929, 18935, 18943, 18944, 18957, 18970, 18977, 18978, 18980, 18986, 18994, 19006, 19021, 19023, 19025, 19033, 19035, 19067, 19069, 19077, 19090, 19115, 19118, 19132, 19148, 19151, 19154, 19157, 19161, 19180, 19209, 19215, 19239, 19246, 19251, 19265, 19266, 19268, 19284, 19288, 19291, 19316, 19317, 19322, 19333, 19355, 19362, 19374, 19375, 19393, 19412, 19414, 19416, 19424, 19428, 19446, 19447, 19451, 19459, 19461, 19462, 19493, 19500, 19508, 19511, 19514, 19517, 19520, 19534, 19536, 19558, 19574, 19584, 19585, 19586, 19592, 19598, 19599, 19603, 19606, 19607, 19608, 19612, 19623, 19624, 19634, 19639, 19640, 19641, 19646, 19650, 19656, 19660, 19662, 19673, 19685, 19724, 19747, 19751, 19756, 19765, 19769, 19771, 19782, 19783, 19791, 19805, 19806, 19844, 19845, 19846, 19863, 19867, 19895, 19899, 19935, 19973, 20029, 20394, 20715, 21237, 21584, 21714, 21715, 21751, 21775, 21780, 21785, 21786, 21787, 21813, 21815, 21816, 21826, 21827, 21857, 21873, 32451]\n"
          ]
        }
      ],
      "source": [
        "\"\"\" identifico spazi bianchi o righe vuote nella colonna text per successiva eliminazione\n",
        "\"\"\"\n",
        "blanks = df_copy[df_copy['text'].apply(lambda x: isinstance(x, str) and x.strip() == \"\")].index.tolist()\n",
        "\n",
        "print(len(blanks), 'blanks:', blanks)"
      ]
    },
    {
      "cell_type": "code",
      "execution_count": null,
      "metadata": {
        "id": "hPXy561preXF"
      },
      "outputs": [],
      "source": [
        "df_copy.drop(blanks, inplace=True)"
      ]
    },
    {
      "cell_type": "code",
      "execution_count": null,
      "metadata": {
        "id": "ppTi1XsireZV"
      },
      "outputs": [],
      "source": [
        "\"\"\" limito il rumore dei dati droppando la colonna data perchè non utile ai fini del progetto,\n",
        "    ed eliminando i duplicati\n",
        "\"\"\"\n",
        "df_copy.drop(['date'], axis = 1, inplace=True)\n",
        "df_copy.drop_duplicates(inplace=True)"
      ]
    },
    {
      "cell_type": "code",
      "execution_count": null,
      "metadata": {
        "colab": {
          "base_uri": "https://localhost:8080/"
        },
        "id": "B249naHLtasm",
        "outputId": "674a5ec4-25fe-4cd6-b647-1739c8f3367d"
      },
      "outputs": [
        {
          "output_type": "execute_result",
          "data": {
            "text/plain": [
              "array(['News', 'politics', 'Government News', 'left-news', 'US_News',\n",
              "       'Middle-east', 'politicsNews', 'worldnews'], dtype=object)"
            ]
          },
          "metadata": {},
          "execution_count": 13
        }
      ],
      "source": [
        "\"\"\" faccio un check dei valori unici di 'subject'\n",
        "\"\"\"\n",
        "df_copy['subject'].unique()"
      ]
    },
    {
      "cell_type": "code",
      "execution_count": null,
      "metadata": {
        "id": "2k4nRKmysiGl"
      },
      "outputs": [],
      "source": [
        "\"\"\" distinguo meglio le categorie di notizie riassegnando la nomenclatura\n",
        "\"\"\"\n",
        "df_copy['subject'] = df_copy['subject'].replace({'news': 'News',\n",
        "                                                 'politics': 'Political News',\n",
        "                                                 'Government News': 'Government News',\n",
        "                                                 'left-news': 'Left News',\n",
        "                                                 'US_News': 'US News',\n",
        "                                                 'Middle-east': 'Middle-East News',\n",
        "                                                 'politicsNews': 'Political News',\n",
        "                                                 'worldnews': 'World News'})"
      ]
    },
    {
      "cell_type": "code",
      "execution_count": null,
      "metadata": {
        "id": "Zc_AF8Dgred4"
      },
      "outputs": [],
      "source": [
        "\"\"\" Applico la lemmatizzazione\n",
        "\"\"\"\n",
        "lemmatizer = WordNetLemmatizer()\n",
        "\n",
        "def get_part_of_speech(tag):\n",
        "    tag_dict = {'J': wordnet.ADJ,   # Aggettivi\n",
        "                'N': wordnet.NOUN,  # Nomi\n",
        "                'V': wordnet.VERB,  # Verbi\n",
        "                'R': wordnet.ADV}   # Avverbi\n",
        "\n",
        "    return tag_dict.get(tag[0].upper(), wordnet.NOUN)"
      ]
    },
    {
      "cell_type": "code",
      "execution_count": null,
      "metadata": {
        "id": "zs1nTxZXrehG"
      },
      "outputs": [],
      "source": [
        "\"\"\" Funzione per applicare il Cleaning e la lemmatizzazione sul testo\n",
        "\"\"\"\n",
        "def preprocess_text(texts):\n",
        "    cleaned_texts = []\n",
        "\n",
        "    for text in texts:\n",
        "\n",
        "        text = contractions.fix(text)\n",
        "\n",
        "\n",
        "        text = re.sub(r'http\\S+|www\\S+|https\\S+', '', str(text), flags=re.MULTILINE)\n",
        "        text = re.sub(r'@\\w+', '', text)\n",
        "        text = re.sub(r'#\\w+', '', text)\n",
        "\n",
        "        words = gensim.utils.simple_preprocess(text, deacc=True)\n",
        "        filtered_words = [word for word in words if word not in STOPWORDS and len(word) > 5]\n",
        "\n",
        "        lemmatized_words = [lemmatizer.lemmatize(word, get_part_of_speech(pos_tag([word])[0][1])) for word in filtered_words]\n",
        "\n",
        "        cleaned_texts.append(lemmatized_words)\n",
        "\n",
        "    return cleaned_texts"
      ]
    },
    {
      "cell_type": "code",
      "execution_count": null,
      "metadata": {
        "id": "a3_O0H7lYQHM"
      },
      "outputs": [],
      "source": [
        "\"\"\" Applico il data cleaning sul testo\n",
        "\"\"\"\n",
        "df_copy['cleaned_text'] = preprocess_text(df_copy['text'])"
      ]
    },
    {
      "cell_type": "code",
      "execution_count": null,
      "metadata": {
        "id": "b4fMOCURYQJ8"
      },
      "outputs": [],
      "source": [
        "\"\"\" Funzione per il cleaning e la lemmatizzazione sul titolo\n",
        "\"\"\"\n",
        "def preprocess_title(titles):\n",
        "    cleaned_titles = []\n",
        "\n",
        "    for title in titles:\n",
        "\n",
        "        title = contractions.fix(title)\n",
        "\n",
        "        words = gensim.utils.simple_preprocess(title, deacc=True)\n",
        "        filtered_words = [word for word in words if word not in STOPWORDS and len(word) > 3]\n",
        "\n",
        "        lemmatized_words = [lemmatizer.lemmatize(word, get_part_of_speech(pos_tag([word])[0][1])) for word in filtered_words]\n",
        "\n",
        "        cleaned_titles.append(lemmatized_words)\n",
        "\n",
        "    return cleaned_titles"
      ]
    },
    {
      "cell_type": "code",
      "execution_count": null,
      "metadata": {
        "id": "lmkF3dj8YQMr"
      },
      "outputs": [],
      "source": [
        "\"\"\" Applico il data cleaning sul titolo\n",
        "\"\"\"\n",
        "df_copy['cleaned_title'] = preprocess_title(df_copy['title'])"
      ]
    },
    {
      "cell_type": "code",
      "execution_count": null,
      "metadata": {
        "colab": {
          "base_uri": "https://localhost:8080/"
        },
        "id": "IaS_mNnfYQPR",
        "outputId": "7d96f4ae-b936-48cc-f854-d47d389510e3"
      },
      "outputs": [
        {
          "output_type": "execute_result",
          "data": {
            "text/plain": [
              "['donald',\n",
              " 'couldn',\n",
              " 'american',\n",
              " 'instead',\n",
              " 'enemy',\n",
              " 'hater',\n",
              " 'dishonest',\n",
              " 'reality',\n",
              " 'couldn',\n",
              " 'country',\n",
              " 'rapidly',\n",
              " 'strong',\n",
              " 'smarter',\n",
              " 'friend',\n",
              " 'supporter',\n",
              " 'enemy',\n",
              " 'hater',\n",
              " 'dishonest',\n",
              " 'healthy',\n",
              " 'president',\n",
              " 'tweet',\n",
              " 'america',\n",
              " 'country',\n",
              " 'rapidly',\n",
              " 'strong',\n",
              " 'smarter',\n",
              " 'friend',\n",
              " 'supporter',\n",
              " 'enemy',\n",
              " 'hater',\n",
              " 'dishonest',\n",
              " 'healthy',\n",
              " 'america',\n",
              " 'donald',\n",
              " 'december',\n",
              " 'expect',\n",
              " 'president',\n",
              " 'greet',\n",
              " 'despicable',\n",
              " 'infantile',\n",
              " 'gibberish',\n",
              " 'decency',\n",
              " 'gutter',\n",
              " 'american',\n",
              " 'citizen',\n",
              " 'bishop',\n",
              " 'talbert',\n",
              " 'december',\n",
              " 'calvin',\n",
              " 'december',\n",
              " 'impeachment',\n",
              " 'america',\n",
              " 'accept',\n",
              " 'regain',\n",
              " 'control',\n",
              " 'congress',\n",
              " 'miranda',\n",
              " 'december',\n",
              " 'include',\n",
              " 'people',\n",
              " 'wonder',\n",
              " 'sandoval',\n",
              " 'december',\n",
              " 'hater',\n",
              " 'marlene',\n",
              " 'december',\n",
              " 'pollitt',\n",
              " 'december',\n",
              " 'include',\n",
              " 'enemy',\n",
              " 'fought',\n",
              " 'donald',\n",
              " 'december',\n",
              " 'direct',\n",
              " 'message',\n",
              " 'enemy',\n",
              " 'hater',\n",
              " 'easter',\n",
              " 'thanksgiving',\n",
              " 'anniversary',\n",
              " 'twitter',\n",
              " 'daniel',\n",
              " 'december',\n",
              " 'holiday',\n",
              " 'tweet',\n",
              " 'clearly',\n",
              " 'presidential',\n",
              " 'hallmark',\n",
              " 'president',\n",
              " 'steven',\n",
              " 'goodine',\n",
              " 'december',\n",
              " 'difference',\n",
              " 'filter',\n",
              " 'break',\n",
              " 'schulze',\n",
              " 'december',\n",
              " 'teenager',\n",
              " 'hater',\n",
              " 'december',\n",
              " 'fuck',\n",
              " 'december',\n",
              " 'people',\n",
              " 'think',\n",
              " 'change',\n",
              " 'change',\n",
              " 'andrew',\n",
              " 'burton',\n",
              " 'image']"
            ]
          },
          "metadata": {},
          "execution_count": 20
        }
      ],
      "source": [
        "\"\"\" Faccio un check sul primo testo pulito\n",
        "\"\"\"\n",
        "df_copy['cleaned_text'][0]"
      ]
    },
    {
      "cell_type": "code",
      "execution_count": null,
      "metadata": {
        "colab": {
          "base_uri": "https://localhost:8080/"
        },
        "id": "GI1g8pzka2q-",
        "outputId": "dc4d70de-d92e-477b-d2fa-d3013c1c5378"
      },
      "outputs": [
        {
          "output_type": "execute_result",
          "data": {
            "text/plain": [
              "['donald', 'trump', 'sends', 'embarrass', 'year', 'message', 'disturb']"
            ]
          },
          "metadata": {},
          "execution_count": 21
        }
      ],
      "source": [
        "\"\"\". Faccio un check sul primo titolo pulito\n",
        "\"\"\"\n",
        "df_copy['cleaned_title'][0]"
      ]
    },
    {
      "cell_type": "code",
      "execution_count": null,
      "metadata": {
        "id": "ODXmZjDaa2th"
      },
      "outputs": [],
      "source": [
        "\"\"\" Droppo le colonne title e text nel df lasciando il dataset pulito\n",
        "\"\"\"\n",
        "df_copy.drop(['title', 'text'], axis=1, inplace=True)"
      ]
    },
    {
      "cell_type": "code",
      "execution_count": null,
      "metadata": {
        "colab": {
          "base_uri": "https://localhost:8080/",
          "height": 269
        },
        "id": "eZVrhAnMa2ya",
        "outputId": "29678de0-8faf-4c3a-8865-d429e99ba2b6"
      },
      "outputs": [
        {
          "output_type": "execute_result",
          "data": {
            "text/plain": [
              "              subject type_news  \\\n",
              "25685  Political News      true   \n",
              "30133  Political News      true   \n",
              "37158      World News      true   \n",
              "4528             News      fake   \n",
              "18325       Left News      fake   \n",
              "8049             News      fake   \n",
              "17732       Left News      fake   \n",
              "\n",
              "                                            cleaned_text  \\\n",
              "25685  [washington, reuters, special, counsel, invest...   \n",
              "30133  [washington, reuters, president, barack, frida...   \n",
              "37158  [harare, reuters, robert, mugabe, culture, pol...   \n",
              "4528   [donald, call, controversial, racially, charge...   \n",
              "18325  [president, deputy, assistant, sebastian, appe...   \n",
              "8049   [american, terrier, akamara, siegmund, siegmun...   \n",
              "17732  [country, pretty, coast, america, people, supp...   \n",
              "\n",
              "                                           cleaned_title  \n",
              "25685  [russia, probe, counsel, want, interview, seni...  \n",
              "30133      [obama, point, finger, putin, hack, election]  \n",
              "37158    [zimbabwe, mugabe, go, political, tow, abounds]  \n",
              "4528         [trump, call, racist, policy, force, state]  \n",
              "18325  [watch, stone, face, anderson, cooper, get, sc...  \n",
              "8049                   [bull, near, baby, happen, image]  \n",
              "17732  [anti, trump, actor, george, clooney, matt, da...  "
            ],
            "text/html": [
              "\n",
              "  <div id=\"df-fcffae73-1107-46ce-b45d-df1d9c6ad874\" class=\"colab-df-container\">\n",
              "    <div>\n",
              "<style scoped>\n",
              "    .dataframe tbody tr th:only-of-type {\n",
              "        vertical-align: middle;\n",
              "    }\n",
              "\n",
              "    .dataframe tbody tr th {\n",
              "        vertical-align: top;\n",
              "    }\n",
              "\n",
              "    .dataframe thead th {\n",
              "        text-align: right;\n",
              "    }\n",
              "</style>\n",
              "<table border=\"1\" class=\"dataframe\">\n",
              "  <thead>\n",
              "    <tr style=\"text-align: right;\">\n",
              "      <th></th>\n",
              "      <th>subject</th>\n",
              "      <th>type_news</th>\n",
              "      <th>cleaned_text</th>\n",
              "      <th>cleaned_title</th>\n",
              "    </tr>\n",
              "  </thead>\n",
              "  <tbody>\n",
              "    <tr>\n",
              "      <th>25685</th>\n",
              "      <td>Political News</td>\n",
              "      <td>true</td>\n",
              "      <td>[washington, reuters, special, counsel, invest...</td>\n",
              "      <td>[russia, probe, counsel, want, interview, seni...</td>\n",
              "    </tr>\n",
              "    <tr>\n",
              "      <th>30133</th>\n",
              "      <td>Political News</td>\n",
              "      <td>true</td>\n",
              "      <td>[washington, reuters, president, barack, frida...</td>\n",
              "      <td>[obama, point, finger, putin, hack, election]</td>\n",
              "    </tr>\n",
              "    <tr>\n",
              "      <th>37158</th>\n",
              "      <td>World News</td>\n",
              "      <td>true</td>\n",
              "      <td>[harare, reuters, robert, mugabe, culture, pol...</td>\n",
              "      <td>[zimbabwe, mugabe, go, political, tow, abounds]</td>\n",
              "    </tr>\n",
              "    <tr>\n",
              "      <th>4528</th>\n",
              "      <td>News</td>\n",
              "      <td>fake</td>\n",
              "      <td>[donald, call, controversial, racially, charge...</td>\n",
              "      <td>[trump, call, racist, policy, force, state]</td>\n",
              "    </tr>\n",
              "    <tr>\n",
              "      <th>18325</th>\n",
              "      <td>Left News</td>\n",
              "      <td>fake</td>\n",
              "      <td>[president, deputy, assistant, sebastian, appe...</td>\n",
              "      <td>[watch, stone, face, anderson, cooper, get, sc...</td>\n",
              "    </tr>\n",
              "    <tr>\n",
              "      <th>8049</th>\n",
              "      <td>News</td>\n",
              "      <td>fake</td>\n",
              "      <td>[american, terrier, akamara, siegmund, siegmun...</td>\n",
              "      <td>[bull, near, baby, happen, image]</td>\n",
              "    </tr>\n",
              "    <tr>\n",
              "      <th>17732</th>\n",
              "      <td>Left News</td>\n",
              "      <td>fake</td>\n",
              "      <td>[country, pretty, coast, america, people, supp...</td>\n",
              "      <td>[anti, trump, actor, george, clooney, matt, da...</td>\n",
              "    </tr>\n",
              "  </tbody>\n",
              "</table>\n",
              "</div>\n",
              "    <div class=\"colab-df-buttons\">\n",
              "\n",
              "  <div class=\"colab-df-container\">\n",
              "    <button class=\"colab-df-convert\" onclick=\"convertToInteractive('df-fcffae73-1107-46ce-b45d-df1d9c6ad874')\"\n",
              "            title=\"Convert this dataframe to an interactive table.\"\n",
              "            style=\"display:none;\">\n",
              "\n",
              "  <svg xmlns=\"http://www.w3.org/2000/svg\" height=\"24px\" viewBox=\"0 -960 960 960\">\n",
              "    <path d=\"M120-120v-720h720v720H120Zm60-500h600v-160H180v160Zm220 220h160v-160H400v160Zm0 220h160v-160H400v160ZM180-400h160v-160H180v160Zm440 0h160v-160H620v160ZM180-180h160v-160H180v160Zm440 0h160v-160H620v160Z\"/>\n",
              "  </svg>\n",
              "    </button>\n",
              "\n",
              "  <style>\n",
              "    .colab-df-container {\n",
              "      display:flex;\n",
              "      gap: 12px;\n",
              "    }\n",
              "\n",
              "    .colab-df-convert {\n",
              "      background-color: #E8F0FE;\n",
              "      border: none;\n",
              "      border-radius: 50%;\n",
              "      cursor: pointer;\n",
              "      display: none;\n",
              "      fill: #1967D2;\n",
              "      height: 32px;\n",
              "      padding: 0 0 0 0;\n",
              "      width: 32px;\n",
              "    }\n",
              "\n",
              "    .colab-df-convert:hover {\n",
              "      background-color: #E2EBFA;\n",
              "      box-shadow: 0px 1px 2px rgba(60, 64, 67, 0.3), 0px 1px 3px 1px rgba(60, 64, 67, 0.15);\n",
              "      fill: #174EA6;\n",
              "    }\n",
              "\n",
              "    .colab-df-buttons div {\n",
              "      margin-bottom: 4px;\n",
              "    }\n",
              "\n",
              "    [theme=dark] .colab-df-convert {\n",
              "      background-color: #3B4455;\n",
              "      fill: #D2E3FC;\n",
              "    }\n",
              "\n",
              "    [theme=dark] .colab-df-convert:hover {\n",
              "      background-color: #434B5C;\n",
              "      box-shadow: 0px 1px 3px 1px rgba(0, 0, 0, 0.15);\n",
              "      filter: drop-shadow(0px 1px 2px rgba(0, 0, 0, 0.3));\n",
              "      fill: #FFFFFF;\n",
              "    }\n",
              "  </style>\n",
              "\n",
              "    <script>\n",
              "      const buttonEl =\n",
              "        document.querySelector('#df-fcffae73-1107-46ce-b45d-df1d9c6ad874 button.colab-df-convert');\n",
              "      buttonEl.style.display =\n",
              "        google.colab.kernel.accessAllowed ? 'block' : 'none';\n",
              "\n",
              "      async function convertToInteractive(key) {\n",
              "        const element = document.querySelector('#df-fcffae73-1107-46ce-b45d-df1d9c6ad874');\n",
              "        const dataTable =\n",
              "          await google.colab.kernel.invokeFunction('convertToInteractive',\n",
              "                                                    [key], {});\n",
              "        if (!dataTable) return;\n",
              "\n",
              "        const docLinkHtml = 'Like what you see? Visit the ' +\n",
              "          '<a target=\"_blank\" href=https://colab.research.google.com/notebooks/data_table.ipynb>data table notebook</a>'\n",
              "          + ' to learn more about interactive tables.';\n",
              "        element.innerHTML = '';\n",
              "        dataTable['output_type'] = 'display_data';\n",
              "        await google.colab.output.renderOutput(dataTable, element);\n",
              "        const docLink = document.createElement('div');\n",
              "        docLink.innerHTML = docLinkHtml;\n",
              "        element.appendChild(docLink);\n",
              "      }\n",
              "    </script>\n",
              "  </div>\n",
              "\n",
              "\n",
              "<div id=\"df-46cee8ea-6f2f-4e81-8993-a342ab3fc0ba\">\n",
              "  <button class=\"colab-df-quickchart\" onclick=\"quickchart('df-46cee8ea-6f2f-4e81-8993-a342ab3fc0ba')\"\n",
              "            title=\"Suggest charts\"\n",
              "            style=\"display:none;\">\n",
              "\n",
              "<svg xmlns=\"http://www.w3.org/2000/svg\" height=\"24px\"viewBox=\"0 0 24 24\"\n",
              "     width=\"24px\">\n",
              "    <g>\n",
              "        <path d=\"M19 3H5c-1.1 0-2 .9-2 2v14c0 1.1.9 2 2 2h14c1.1 0 2-.9 2-2V5c0-1.1-.9-2-2-2zM9 17H7v-7h2v7zm4 0h-2V7h2v10zm4 0h-2v-4h2v4z\"/>\n",
              "    </g>\n",
              "</svg>\n",
              "  </button>\n",
              "\n",
              "<style>\n",
              "  .colab-df-quickchart {\n",
              "      --bg-color: #E8F0FE;\n",
              "      --fill-color: #1967D2;\n",
              "      --hover-bg-color: #E2EBFA;\n",
              "      --hover-fill-color: #174EA6;\n",
              "      --disabled-fill-color: #AAA;\n",
              "      --disabled-bg-color: #DDD;\n",
              "  }\n",
              "\n",
              "  [theme=dark] .colab-df-quickchart {\n",
              "      --bg-color: #3B4455;\n",
              "      --fill-color: #D2E3FC;\n",
              "      --hover-bg-color: #434B5C;\n",
              "      --hover-fill-color: #FFFFFF;\n",
              "      --disabled-bg-color: #3B4455;\n",
              "      --disabled-fill-color: #666;\n",
              "  }\n",
              "\n",
              "  .colab-df-quickchart {\n",
              "    background-color: var(--bg-color);\n",
              "    border: none;\n",
              "    border-radius: 50%;\n",
              "    cursor: pointer;\n",
              "    display: none;\n",
              "    fill: var(--fill-color);\n",
              "    height: 32px;\n",
              "    padding: 0;\n",
              "    width: 32px;\n",
              "  }\n",
              "\n",
              "  .colab-df-quickchart:hover {\n",
              "    background-color: var(--hover-bg-color);\n",
              "    box-shadow: 0 1px 2px rgba(60, 64, 67, 0.3), 0 1px 3px 1px rgba(60, 64, 67, 0.15);\n",
              "    fill: var(--button-hover-fill-color);\n",
              "  }\n",
              "\n",
              "  .colab-df-quickchart-complete:disabled,\n",
              "  .colab-df-quickchart-complete:disabled:hover {\n",
              "    background-color: var(--disabled-bg-color);\n",
              "    fill: var(--disabled-fill-color);\n",
              "    box-shadow: none;\n",
              "  }\n",
              "\n",
              "  .colab-df-spinner {\n",
              "    border: 2px solid var(--fill-color);\n",
              "    border-color: transparent;\n",
              "    border-bottom-color: var(--fill-color);\n",
              "    animation:\n",
              "      spin 1s steps(1) infinite;\n",
              "  }\n",
              "\n",
              "  @keyframes spin {\n",
              "    0% {\n",
              "      border-color: transparent;\n",
              "      border-bottom-color: var(--fill-color);\n",
              "      border-left-color: var(--fill-color);\n",
              "    }\n",
              "    20% {\n",
              "      border-color: transparent;\n",
              "      border-left-color: var(--fill-color);\n",
              "      border-top-color: var(--fill-color);\n",
              "    }\n",
              "    30% {\n",
              "      border-color: transparent;\n",
              "      border-left-color: var(--fill-color);\n",
              "      border-top-color: var(--fill-color);\n",
              "      border-right-color: var(--fill-color);\n",
              "    }\n",
              "    40% {\n",
              "      border-color: transparent;\n",
              "      border-right-color: var(--fill-color);\n",
              "      border-top-color: var(--fill-color);\n",
              "    }\n",
              "    60% {\n",
              "      border-color: transparent;\n",
              "      border-right-color: var(--fill-color);\n",
              "    }\n",
              "    80% {\n",
              "      border-color: transparent;\n",
              "      border-right-color: var(--fill-color);\n",
              "      border-bottom-color: var(--fill-color);\n",
              "    }\n",
              "    90% {\n",
              "      border-color: transparent;\n",
              "      border-bottom-color: var(--fill-color);\n",
              "    }\n",
              "  }\n",
              "</style>\n",
              "\n",
              "  <script>\n",
              "    async function quickchart(key) {\n",
              "      const quickchartButtonEl =\n",
              "        document.querySelector('#' + key + ' button');\n",
              "      quickchartButtonEl.disabled = true;  // To prevent multiple clicks.\n",
              "      quickchartButtonEl.classList.add('colab-df-spinner');\n",
              "      try {\n",
              "        const charts = await google.colab.kernel.invokeFunction(\n",
              "            'suggestCharts', [key], {});\n",
              "      } catch (error) {\n",
              "        console.error('Error during call to suggestCharts:', error);\n",
              "      }\n",
              "      quickchartButtonEl.classList.remove('colab-df-spinner');\n",
              "      quickchartButtonEl.classList.add('colab-df-quickchart-complete');\n",
              "    }\n",
              "    (() => {\n",
              "      let quickchartButtonEl =\n",
              "        document.querySelector('#df-46cee8ea-6f2f-4e81-8993-a342ab3fc0ba button');\n",
              "      quickchartButtonEl.style.display =\n",
              "        google.colab.kernel.accessAllowed ? 'block' : 'none';\n",
              "    })();\n",
              "  </script>\n",
              "</div>\n",
              "\n",
              "    </div>\n",
              "  </div>\n"
            ],
            "application/vnd.google.colaboratory.intrinsic+json": {
              "type": "dataframe",
              "summary": "{\n  \"name\": \"df_copy\",\n  \"rows\": 7,\n  \"fields\": [\n    {\n      \"column\": \"subject\",\n      \"properties\": {\n        \"dtype\": \"string\",\n        \"num_unique_values\": 4,\n        \"samples\": [\n          \"World News\",\n          \"Left News\",\n          \"Political News\"\n        ],\n        \"semantic_type\": \"\",\n        \"description\": \"\"\n      }\n    },\n    {\n      \"column\": \"type_news\",\n      \"properties\": {\n        \"dtype\": \"category\",\n        \"num_unique_values\": 2,\n        \"samples\": [\n          \"fake\",\n          \"true\"\n        ],\n        \"semantic_type\": \"\",\n        \"description\": \"\"\n      }\n    },\n    {\n      \"column\": \"cleaned_text\",\n      \"properties\": {\n        \"dtype\": \"object\",\n        \"semantic_type\": \"\",\n        \"description\": \"\"\n      }\n    },\n    {\n      \"column\": \"cleaned_title\",\n      \"properties\": {\n        \"dtype\": \"object\",\n        \"semantic_type\": \"\",\n        \"description\": \"\"\n      }\n    }\n  ]\n}"
            }
          },
          "metadata": {},
          "execution_count": 23
        }
      ],
      "source": [
        "\"\"\" Faccio un chek e salvo il csv pulito\n",
        "\"\"\"\n",
        "df_copy.sample(7)"
      ]
    },
    {
      "cell_type": "code",
      "execution_count": null,
      "metadata": {
        "id": "3iIRlSdhYQSP"
      },
      "outputs": [],
      "source": [
        "df_copy.to_csv('df_cleaned.csv', index=False)"
      ]
    },
    {
      "cell_type": "markdown",
      "metadata": {
        "id": "D1fpB5yfcW8V"
      },
      "source": [
        "**Le fake news sono più frequenti in una determinata categoria?**"
      ]
    },
    {
      "cell_type": "code",
      "execution_count": null,
      "metadata": {
        "id": "C5uzykB0ccT3"
      },
      "outputs": [],
      "source": [
        "\"\"\" Svolgo un conteggio per valori e per proporzione,\n",
        "    creo un df in cui elenco subject e relativo conteggio e proporzione per le notizie fake\n",
        "\"\"\"\n",
        "count = df_copy.groupby('type_news')['subject'].value_counts()\n",
        "\n",
        "proportion = df_copy.groupby('type_news')['subject'].value_counts(normalize=True)"
      ]
    },
    {
      "cell_type": "code",
      "execution_count": null,
      "metadata": {
        "id": "zTLigNuvccZr"
      },
      "outputs": [],
      "source": [
        "calculate_distribution = pd.DataFrame({'count': count,\n",
        "                                      'proportion': proportion}).reset_index()"
      ]
    },
    {
      "cell_type": "code",
      "execution_count": null,
      "metadata": {
        "id": "m4-WoaF1ccbu"
      },
      "outputs": [],
      "source": [
        "fake_news = calculate_distribution[calculate_distribution['type_news'] == 'fake']"
      ]
    },
    {
      "cell_type": "code",
      "execution_count": null,
      "metadata": {
        "colab": {
          "base_uri": "https://localhost:8080/"
        },
        "id": "zvXjPMfeiKIs",
        "outputId": "9efecf77-0541-4eb4-a75b-de17ddf5f7a8"
      },
      "outputs": [
        {
          "output_type": "stream",
          "name": "stdout",
          "text": [
            "            subject  count  proportion\n",
            "0              News   9050    0.396113\n",
            "1    Political News   6430    0.281437\n",
            "2         Left News   4308    0.188559\n",
            "3   Government News   1498    0.065567\n",
            "4           US News    783    0.034271\n",
            "5  Middle-East News    778    0.034053\n"
          ]
        }
      ],
      "source": [
        "print(fake_news[['subject', 'count', 'proportion']])"
      ]
    },
    {
      "cell_type": "code",
      "execution_count": null,
      "metadata": {
        "colab": {
          "base_uri": "https://localhost:8080/",
          "height": 407
        },
        "id": "lTQ3IOyWj5_L",
        "outputId": "3e9c32d2-8c42-42b9-8b8b-2a37ee119aae"
      },
      "outputs": [
        {
          "output_type": "display_data",
          "data": {
            "text/plain": [
              "<Figure size 600x400 with 1 Axes>"
            ],
            "image/png": "[encoded data removed]"
          },
          "metadata": {}
        }
      ],
      "source": [
        "fig, ax = plt.subplots(figsize=(6, 4))\n",
        "\n",
        "fake_news_sorted = fake_news.sort_values('proportion', ascending=True)\n",
        "\n",
        "colors = plt.cm.Set3(range(len(fake_news_sorted)))\n",
        "\n",
        "ax.barh(fake_news_sorted['subject'], fake_news_sorted['proportion'], color=colors, edgecolor='black', linewidth=0.7)\n",
        "\n",
        "ax.set_title('Distribution of Fake News', fontsize=12)\n",
        "ax.set_xlabel('Proportion', fontsize=10)\n",
        "ax.set_ylabel('Subject', fontsize=10)\n",
        "\n",
        "for index, value in enumerate(fake_news_sorted['proportion']):\n",
        "    ax.text(value + 0.01, index, f'{value:.2%}', va='center', ha='left')\n",
        "\n",
        "ax.spines['top'].set_visible(False)\n",
        "ax.spines['right'].set_visible(False)\n",
        "ax.spines['left'].set_visible(True)\n",
        "ax.spines['bottom'].set_visible(True)\n",
        "\n",
        "plt.tight_layout()\n",
        "plt.show()"
      ]
    },
    {
      "cell_type": "markdown",
      "metadata": {
        "id": "d-56WymYnJ7k"
      },
      "source": [
        "Il grafico da evidenza di come la maggior parte delle Fake News è nella categoria ' News' con il 39.61% . Essendo una categoria generica è complicato identificare l' argomento preciso a cui fa riferimento il documento."
      ]
    },
    {
      "cell_type": "markdown",
      "metadata": {
        "id": "iEr_nOjmnxjE"
      },
      "source": [
        "**Esistono argomenti che sono più soggetti alle fake news?**"
      ]
    },
    {
      "cell_type": "code",
      "execution_count": null,
      "metadata": {
        "id": "9SGu3r5ASRXi"
      },
      "outputs": [],
      "source": [
        "\"\"\" Creo un dict che associa ad ogni subject nella lista una serie di testi puliti di notizie fake\n",
        "    per quel dato argomento\n",
        "\"\"\"\n",
        "subjects = ['News', 'Political News', 'Left News', 'Government News', 'US News', 'Middle-East News']\n",
        "fake_cleaned_text_dict = {}\n",
        "\n",
        "for subject in subjects:\n",
        "    fake_cleaned_text_dict[subject] = df_copy[(df_copy['type_news'] == 'fake') & (df_copy['subject'] == subject)]['cleaned_text']"
      ]
    },
    {
      "cell_type": "code",
      "execution_count": null,
      "metadata": {
        "id": "f8SOks38ztnH"
      },
      "outputs": [],
      "source": [
        "\"\"\" Funzione per il topic model\n",
        "\"\"\"\n",
        "def topic_modeling(data, num_topics, passes=10, random_state=42, chunksize=2000):\n",
        "\n",
        "    dictionary = corpora.Dictionary(data)\n",
        "    corpus = [dictionary.doc2bow(text) for text in data]\n",
        "\n",
        "    # LDA model\n",
        "    lda_model_multicore = gensim.models.LdaMulticore(corpus=corpus,\n",
        "                                                     id2word=dictionary,\n",
        "                                                     num_topics=num_topics,\n",
        "                                                     passes=passes,\n",
        "                                                     random_state=random_state,\n",
        "                                                     chunksize=chunksize,\n",
        "                                                     per_word_topics=True)\n",
        "\n",
        "    topics = lda_model_multicore.show_topics(formatted=False)\n",
        "    topics_sorted = sorted(topics, key=lambda x: x[0])\n",
        "\n",
        "    for i, (topic_id, topic_words) in enumerate(topics_sorted, start=1):\n",
        "        print(f\"Topic {i}: {topic_words}\")\n",
        "\n",
        "    coherence_model_lda = CoherenceModel(model=lda_model_multicore,\n",
        "                                         texts=data,\n",
        "                                         dictionary=dictionary,\n",
        "                                         coherence='c_v')\n",
        "    coherence_lda = coherence_model_lda.get_coherence()\n",
        "    print(f'Coherence Score: {coherence_lda:.2f}')\n",
        "\n",
        "    return lda_model_multicore"
      ]
    },
    {
      "cell_type": "code",
      "execution_count": null,
      "metadata": {
        "id": "xbP0-xOKMknA",
        "colab": {
          "base_uri": "https://localhost:8080/"
        },
        "outputId": "4c4f7019-9922-491e-a89d-46f1ee28a35b"
      },
      "outputs": [
        {
          "output_type": "stream",
          "name": "stdout",
          "text": [
            "\n",
            "Topic Modeling per il soggetto: News con 8 topics\n",
            "Topic 1: [('people', 0.015193282), ('police', 0.012054788), ('school', 0.007901634), ('feature', 0.006431727), ('officer', 0.0062859054), ('child', 0.005655654), ('christian', 0.0051222933), ('student', 0.00473284), ('family', 0.004581108), ('facebook', 0.0043854197)]\n",
            "Topic 2: [('climate', 0.009694386), ('reilly', 0.0096386615), ('hannity', 0.009173949), ('change', 0.009172037), ('october', 0.009131326), ('feature', 0.007967741), ('twitter', 0.0072779977), ('president', 0.006606996), ('spicer', 0.006303791), ('question', 0.0061490447)]\n",
            "Topic 3: [('russia', 0.012466336), ('president', 0.010467149), ('donald', 0.0100139985), ('campaign', 0.009398734), ('investigation', 0.009138706), ('russian', 0.008743387), ('election', 0.007954286), ('administration', 0.007857475), ('report', 0.0077277618), ('official', 0.0072282925)]\n",
            "Topic 4: [('republican', 0.0366875), ('president', 0.01364574), ('sander', 0.010628818), ('people', 0.010580163), ('election', 0.008690945), ('democrat', 0.007852023), ('percent', 0.007778946), ('candidate', 0.0077539887), ('state', 0.007716557), ('voter', 0.006745451)]\n",
            "Topic 5: [('twitter', 0.0646522), ('january', 0.037029896), ('february', 0.0241399), ('donald', 0.014251731), ('tweet', 0.013917224), ('people', 0.012284521), ('december', 0.008679276), ('september', 0.0072494093), ('feature', 0.006758096), ('president', 0.0053825057)]\n",
            "Topic 6: [('people', 0.0155380415), ('million', 0.013610125), ('health', 0.012149105), ('government', 0.01091898), ('carson', 0.00972342), ('federal', 0.0087832315), ('company', 0.008680264), ('veteran', 0.007692814), ('american', 0.0075503853), ('family', 0.00715882)]\n",
            "Topic 7: [('clinton', 0.028588923), ('hillary', 0.019412208), ('campaign', 0.011442338), ('donald', 0.00960975), ('feature', 0.0090026), ('abortion', 0.00857672), ('business', 0.0079358695), ('warren', 0.007587997), ('plan', 0.007462159), ('parenthood', 0.0069029992)]\n",
            "Topic 8: [('donald', 0.020406967), ('president', 0.018859314), ('people', 0.015491574), ('american', 0.009718963), ('feature', 0.009581178), ('america', 0.009354565), ('republican', 0.009148138), ('country', 0.008057693), ('campaign', 0.008056076), ('attack', 0.0068850596)]\n",
            "Coherence Score: 0.40\n",
            "\n",
            "Topic Modeling per il soggetto: Political News con 7 topics\n",
            "Topic 1: [('police', 0.02202589), ('officer', 0.010304182), ('people', 0.009636451), ('american', 0.007185206), ('family', 0.0070867473), ('arrest', 0.005385613), ('report', 0.00507072), ('charge', 0.0048410962), ('community', 0.0046348395), ('attack', 0.00427263)]\n",
            "Topic 2: [('hillary', 0.017310811), ('president', 0.01676433), ('clinton', 0.013472175), ('people', 0.011358364), ('republican', 0.011012367), ('donald', 0.009394342), ('campaign', 0.009102573), ('democrat', 0.008061765), ('candidate', 0.007542679), ('election', 0.0074438513)]\n",
            "Topic 3: [('clinton', 0.030946724), ('president', 0.010690677), ('hillary', 0.010433044), ('department', 0.009701109), ('million', 0.008504178), ('report', 0.0083227325), ('government', 0.0071207103), ('foundation', 0.006534268), ('source', 0.006468528), ('investigation', 0.0064631156)]\n",
            "Topic 4: [('confederate', 0.010155332), ('facebook', 0.0066829897), ('american', 0.0055801417), ('history', 0.0055185496), ('university', 0.005283006), ('people', 0.005136731), ('school', 0.004985462), ('report', 0.004265843), ('accord', 0.0042193267), ('remove', 0.004100822)]\n",
            "Topic 5: [('twitter', 0.019044314), ('president', 0.008773237), ('people', 0.0068576643), ('sentence', 0.005560559), ('climate', 0.0053481436), ('supporter', 0.0051425667), ('tweet', 0.0043881917), ('change', 0.0042643896), ('speech', 0.004254955), ('post', 0.004240611)]\n",
            "Topic 6: [('student', 0.017913751), ('school', 0.014267845), ('american', 0.0087598935), ('people', 0.008009423), ('university', 0.0070634848), ('college', 0.005863366), ('campus', 0.0056060553), ('america', 0.005360105), ('president', 0.004924946), ('parent', 0.0048177)]\n",
            "Topic 7: [('muslim', 0.011143561), ('immigration', 0.0105710775), ('refugee', 0.010159065), ('country', 0.009822865), ('american', 0.009409188), ('state', 0.009099701), ('illegal', 0.008980649), ('immigrant', 0.00884661), ('border', 0.007990536), ('government', 0.0070959637)]\n",
            "Coherence Score: 0.42\n",
            "\n",
            "Topic Modeling per il soggetto: Left News con 6 topics\n",
            "Topic 1: [('clinton', 0.017349511), ('hillary', 0.0099930195), ('people', 0.008718882), ('president', 0.0063492297), ('campaign', 0.0057357308), ('million', 0.0055197077), ('american', 0.005115667), ('muslim', 0.005098875), ('country', 0.0049704253), ('america', 0.0046050823)]\n",
            "Topic 2: [('police', 0.027527604), ('officer', 0.013770311), ('people', 0.008247619), ('arrest', 0.006226669), ('protest', 0.0058427094), ('report', 0.0058118957), ('american', 0.005202911), ('attack', 0.0051489966), ('community', 0.0046400325), ('protester', 0.004559833)]\n",
            "Topic 3: [('hillary', 0.012346062), ('american', 0.008020241), ('clinton', 0.006892732), ('people', 0.0062110303), ('president', 0.0049604485), ('committee', 0.004349729), ('report', 0.004199628), ('right', 0.0040025213), ('member', 0.0039375583), ('zeifman', 0.003923786)]\n",
            "Topic 4: [('school', 0.009326374), ('people', 0.008153565), ('american', 0.0068493527), ('child', 0.0066322046), ('student', 0.0054192375), ('family', 0.004956916), ('state', 0.0049030883), ('government', 0.004505196), ('parent', 0.0041682012), ('president', 0.003910566)]\n",
            "Topic 5: [('school', 0.00971631), ('people', 0.009280917), ('twitter', 0.0071098665), ('student', 0.0069576097), ('refugee', 0.0067262035), ('president', 0.0049513574), ('parent', 0.004769159), ('america', 0.0047331997), ('report', 0.004367174), ('child', 0.0039962353)]\n",
            "Topic 6: [('president', 0.014803419), ('american', 0.0073796185), ('source', 0.0062114815), ('illegal', 0.005970368), ('state', 0.0055812234), ('investigation', 0.005483621), ('government', 0.0049712607), ('border', 0.004928472), ('federal', 0.0046778326), ('security', 0.004667952)]\n",
            "Coherence Score: 0.35\n",
            "\n",
            "Topic Modeling per il soggetto: Government News con 5 topics\n",
            "Topic 1: [('president', 0.008526405), ('state', 0.0073455684), ('government', 0.005548709), ('united', 0.005524582), ('muslim', 0.00477875), ('official', 0.0044700243), ('american', 0.004460014), ('administration', 0.004412973), ('country', 0.0043381704), ('report', 0.0039433767)]\n",
            "Topic 2: [('refugee', 0.008909755), ('american', 0.008424408), ('president', 0.008423362), ('people', 0.008368059), ('america', 0.007185426), ('border', 0.0068358677), ('country', 0.0058190846), ('police', 0.005790457), ('illegal', 0.0050156643), ('republican', 0.004733049)]\n",
            "Topic 3: [('clinton', 0.01876379), ('department', 0.009648649), ('government', 0.008907726), ('report', 0.0073410557), ('american', 0.007196599), ('federal', 0.0067065414), ('people', 0.00649253), ('program', 0.0064878515), ('hillary', 0.0061064945), ('million', 0.005681963)]\n",
            "Topic 4: [('president', 0.010317931), ('people', 0.007504192), ('american', 0.0066891024), ('government', 0.0058036437), ('hillary', 0.0055798227), ('nation', 0.005450108), ('country', 0.005142083), ('million', 0.0049904035), ('clinton', 0.0046583107), ('report', 0.0043041348)]\n",
            "Topic 5: [('people', 0.007894556), ('president', 0.0052629206), ('american', 0.005178072), ('school', 0.004120774), ('state', 0.0040150117), ('change', 0.0038330336), ('muslim', 0.0036902493), ('country', 0.0034525623), ('islamic', 0.003117275), ('national', 0.0030675586)]\n",
            "Coherence Score: 0.33\n",
            "\n",
            "Topic Modeling per il soggetto: US News con 4 topics\n",
            "Topic 1: [('clinton', 0.014997167), ('president', 0.006828338), ('century', 0.006075505), ('hillary', 0.00598198), ('campaign', 0.0053833434), ('report', 0.004838475), ('government', 0.00416748), ('election', 0.003943775), ('member', 0.003771694), ('political', 0.0037681449)]\n",
            "Topic 2: [('election', 0.007762458), ('century', 0.006073509), ('political', 0.006010852), ('president', 0.005743001), ('clinton', 0.0053438568), ('american', 0.0045729075), ('america', 0.0040247566), ('donald', 0.003898891), ('israel', 0.0038140535), ('people', 0.003596261)]\n",
            "Topic 3: [('shoot', 0.011479859), ('boiler', 0.009830343), ('shooter', 0.0069938055), ('political', 0.006905914), ('report', 0.0061427723), ('broadcast', 0.0060704434), ('episode', 0.0058259685), ('security', 0.0044304994), ('current', 0.004265795), ('attack', 0.0042510047)]\n",
            "Topic 4: [('government', 0.007765713), ('russia', 0.0066331485), ('russian', 0.0061126463), ('washington', 0.005867299), ('american', 0.005830285), ('military', 0.0055992985), ('report', 0.0054882695), ('century', 0.0050936714), ('president', 0.0050275787), ('people', 0.004821584)]\n",
            "Coherence Score: 0.36\n",
            "\n",
            "Topic Modeling per il soggetto: Middle-East News con 3 topics\n",
            "Topic 1: [('clinton', 0.012595062), ('century', 0.006885165), ('president', 0.006005055), ('hillary', 0.005926001), ('election', 0.0056683454), ('campaign', 0.0052939095), ('political', 0.004997121), ('report', 0.0048750206), ('people', 0.00458122), ('donald', 0.0038328313)]\n",
            "Topic 2: [('government', 0.007529492), ('report', 0.006919258), ('military', 0.0051129838), ('washington', 0.0048712716), ('century', 0.0048020915), ('russia', 0.004786095), ('president', 0.0047291894), ('russian', 0.004659851), ('intelligence', 0.004649007), ('attack', 0.0044405092)]\n",
            "Topic 3: [('boiler', 0.00798968), ('political', 0.007175568), ('russia', 0.006084977), ('broadcast', 0.0051278756), ('episode', 0.0047727125), ('israel', 0.0044120383), ('russian', 0.004330312), ('president', 0.004185921), ('american', 0.0040252376), ('current', 0.003898327)]\n",
            "Coherence Score: 0.35\n"
          ]
        }
      ],
      "source": [
        "\"\"\" Eseguo il topic model su ogni subject definendo un numero di topic nel dict\n",
        "\"\"\"\n",
        "topics_per_subject = {\n",
        "    'News': 8,\n",
        "    'Political News': 7,\n",
        "    'Left News': 6,\n",
        "    'Government News': 5,\n",
        "    'US News': 4,\n",
        "    'Middle-East News': 3,\n",
        "}\n",
        "\n",
        "# Itero attraverso ogni soggetto nel dizionario\n",
        "for subject, data in fake_cleaned_text_dict.items():\n",
        "\n",
        "    # Ottengo il numero di topic per il soggetto corrente\n",
        "    num_topics = topics_per_subject.get(subject)\n",
        "\n",
        "    print(f\"\\nTopic Modeling per il soggetto: {subject} con {num_topics} topics\")\n",
        "\n",
        "    # Eseguo il topic modeling su ciascun soggetto\n",
        "    lda_model= topic_modeling(data, num_topics=num_topics)"
      ]
    },
    {
      "cell_type": "markdown",
      "metadata": {
        "id": "QoT96XofliQU"
      },
      "source": [
        "**Assegnazione delle etichette descrittive ai rispettivi Topic.**\n",
        "\n",
        "**Topic modeling per il soggetto 'News':**\n",
        "- Questioni sociali: Sicurezza e Istruzione.\n",
        "- Discussioni su Cambiamenti Climatici e Media.\n",
        "- Elezioni Americane e rapporti internazionali.\n",
        "- Campagna elettorale ed elettorato.\n",
        "- Politiche di comunicazione presidenziale.\n",
        "- Questioni sociali: Sanità.\n",
        "- Questioni sociali: discussione su aborto.\n",
        "- Presidenza e Politica Nazionale Americana.\n",
        "\n",
        "**Topic modeling per il soggetto 'Political News':**\n",
        "- Sicurezza e Guiustizia.\n",
        "- Principali candidati alle elezioni Presidenziali.\n",
        "- Indagini e Politica.\n",
        "- Questioni sociali: Istruzione e Cultura.\n",
        "- Social Media e Proteste.\n",
        "- Diritti e Identità Nazionale.\n",
        "- Immigrazione e Politiche di Confine.\n",
        "\n",
        "**Topic modeling per il soggetto ' Left News':**\n",
        "- Politica elettorale di Hilary Clinton.\n",
        "- Giustizia Sociale e Polizia.\n",
        "- Politica Americana e Hilary Clinton.\n",
        "- Politiche Scolastiche.\n",
        "- Politiche di Immigrazione.\n",
        "- Sicurezza e Immigrazione Illegale.\n",
        "\n",
        "\n",
        "**Topic modeling per il soggetto ' Government News':**\n",
        "- Politica Internazionale e Presidenziale.\n",
        "- Sicurezza Nazionale e gestione dell' immigrazione.\n",
        "- Politiche Governative di Hilary Clinton.\n",
        "- Politica Nazionale.\n",
        "- Istruzione Americana legata a politiche di integrazione.\n",
        "\n",
        "**Topic modeling per il soggetto ' US News':**\n",
        "- Elezioni Presidenziali e Hilary Clinton.\n",
        "- Azione politica sul conflitto in Israele dei candidati alle elezioni Americane.\n",
        "- Sicurezza e Controllo sui Media.\n",
        "- Relazioni Internazionali e Politica Estera.\n",
        "\n",
        "**Topic modeling per il soggetto ' Middle-East News':**\n",
        "- Elezioni Americane ed influenza Politica.\n",
        "- Elezioni e Politica Internazionale.\n",
        "- Sicurezza e Media.\n",
        "- Relazioni Internazionali e Politica Estera.\n"
      ]
    },
    {
      "cell_type": "markdown",
      "metadata": {
        "id": "rHNLJp2ahmYH"
      },
      "source": [
        "**I titoli delle fake news presentano dei pattern ricorrenti?**"
      ]
    },
    {
      "cell_type": "code",
      "execution_count": null,
      "metadata": {
        "id": "FvIy8zaAhf6i"
      },
      "outputs": [],
      "source": [
        "title_fake = df_copy[df_copy['type_news']=='fake']['cleaned_title']"
      ]
    },
    {
      "cell_type": "code",
      "execution_count": null,
      "metadata": {
        "id": "Ye4lpdoIhf9P",
        "colab": {
          "base_uri": "https://localhost:8080/"
        },
        "outputId": "ca2be687-b742-4a41-d137-a194ee06b2f6"
      },
      "outputs": [
        {
          "output_type": "stream",
          "name": "stdout",
          "text": [
            "Topic 1: [('video', 0.037229832), ('black', 0.02207496), ('obama', 0.021673353), ('trump', 0.020139376), ('muslim', 0.013515659), ('terrorist', 0.013138587), ('life', 0.011379609), ('police', 0.011150914), ('american', 0.011037986), ('syria', 0.009862705)]\n",
            "Topic 2: [('video', 0.06158817), ('trump', 0.060856987), ('hillary', 0.033117067), ('watch', 0.021512462), ('clinton', 0.015939357), ('donald', 0.0125478655), ('news', 0.011281361), ('president', 0.011003932), ('host', 0.0071910215), ('get', 0.0068732146)]\n",
            "Topic 3: [('hillary', 0.033236645), ('video', 0.0221597), ('clinton', 0.022074187), ('bernie', 0.015340219), ('sander', 0.0135368295), ('break', 0.013407577), ('email', 0.012398192), ('state', 0.012049224), ('plan', 0.008909277), ('vote', 0.007848268)]\n",
            "Topic 4: [('room', 0.032770306), ('boiler', 0.030343806), ('white', 0.028762545), ('obama', 0.021645632), ('trump', 0.01785363), ('house', 0.01640307), ('video', 0.015869321), ('medium', 0.013614003), ('illegal', 0.012897091), ('fake', 0.010449303)]\n",
            "Topic 5: [('video', 0.032617662), ('trump', 0.020412127), ('hillary', 0.008133516), ('john', 0.00798984), ('sunday', 0.007733957), ('boom', 0.007287269), ('oregon', 0.0072662123), ('george', 0.007109444), ('candidate', 0.006741891), ('soros', 0.006360971)]\n",
            "Topic 6: [('trump', 0.03170338), ('video', 0.017354896), ('tweet', 0.015684882), ('obama', 0.01328026), ('wire', 0.0125061), ('twitter', 0.009978163), ('student', 0.008666085), ('water', 0.007042649), ('anti', 0.006481508), ('school', 0.006370754)]\n",
            "Topic 7: [('trump', 0.035403594), ('video', 0.017219631), ('russia', 0.013873314), ('court', 0.010610234), ('secret', 0.010410736), ('hack', 0.0098530585), ('russian', 0.009512533), ('election', 0.009186845), ('obama', 0.008650642), ('henningsen', 0.008405332)]\n",
            "Topic 8: [('trump', 0.021791264), ('video', 0.017398762), ('million', 0.012307128), ('obama', 0.011442356), ('break', 0.00999148), ('paul', 0.009847151), ('american', 0.008472008), ('refugee', 0.007945312), ('taxpayer', 0.00784651), ('fund', 0.0075176186)]\n",
            "Coherence Score: 0.32\n"
          ]
        }
      ],
      "source": [
        "\"\"\" Eseguo l' LDA model sui titoli definendo una quantità di topic pari ad 8\n",
        "\"\"\"\n",
        "\n",
        "lda_model_title = topic_modeling(title_fake, 8)"
      ]
    },
    {
      "cell_type": "markdown",
      "metadata": {
        "id": "iX7EHX_l3e0m"
      },
      "source": [
        "**Etichette:**\n",
        "- Comunità Afroamericne e questioni legate al terrorismo.\n",
        "- Media ed elezioni Americane.\n",
        "- Scandali e primarie Democratiche.\n",
        "- Politica e Media.\n",
        "- Confronti Politici e Talk Show.\n",
        "- Trump e l' uso dei Media.\n",
        "- Relazioni USA- Russia ed implicazioni Legali.\n",
        "- Trump e le Politiche Scolastiche.\n"
      ]
    },
    {
      "cell_type": "code",
      "execution_count": null,
      "metadata": {
        "id": "_LuMv4ZCoIVE"
      },
      "outputs": [],
      "source": [
        "\"\"\" Creo un oggetto TfidfVectorizer e trasformo i titoli puliti ridefinendo una stringa legando le parole con uno spazio\n",
        "\"\"\"\n",
        "tfidf_vectorizer = TfidfVectorizer()\n",
        "df_copy['cleaned_title'] = df_copy['cleaned_title'].apply(lambda x: ' '.join(x))"
      ]
    },
    {
      "cell_type": "code",
      "execution_count": null,
      "metadata": {
        "id": "8rNtRSHGVwdS"
      },
      "outputs": [],
      "source": [
        "\"\"\" creo una matrice sparsa di TF-IDF\n",
        "\"\"\"\n",
        "tfidf_matrix = tfidf_vectorizer.fit_transform(df_copy['cleaned_title'])"
      ]
    },
    {
      "cell_type": "code",
      "execution_count": null,
      "metadata": {
        "id": "QEgggeuUVwf8"
      },
      "outputs": [],
      "source": [
        "\"\"\" Converto la matrice sparsa creata in precedenza in un array e poi in un df,\n",
        "    in cui ogni colonna rappresenta un termine del vocabolario ed ogni riga è un titolo\n",
        "\"\"\"\n",
        "tfidf_array = tfidf_matrix.toarray()\n",
        "tfidf_df = pd.DataFrame(tfidf_array, columns = tfidf_vectorizer.get_feature_names_out())"
      ]
    },
    {
      "cell_type": "code",
      "execution_count": null,
      "metadata": {
        "id": "nFcHzLQcWVrP"
      },
      "outputs": [],
      "source": [
        "\"\"\" Ottengo una lista ordinata delle parole più rilevanti nel corpus in base ai pesi TF-IDF\n",
        "\"\"\"\n",
        "tfidf_sum = tfidf_df.sum().sort_values(ascending=False).round(2)"
      ]
    },
    {
      "cell_type": "code",
      "execution_count": null,
      "metadata": {
        "id": "OuzpbmfUVwiz"
      },
      "outputs": [],
      "source": [
        "\"\"\" Creo un nuovo df del risultato della somma dei pesi per calcolare la proporzione di ciascun termine\n",
        "    rispetto alla somma del totale dei pesi TF-IDF\n",
        "\"\"\"\n",
        "tfidf_df = pd.DataFrame(tfidf_sum, columns=['tfidf'])\n",
        "tfidf_df['proportion'] = tfidf_df['tfidf']/ tfidf_df['tfidf'].sum()"
      ]
    },
    {
      "cell_type": "code",
      "execution_count": null,
      "metadata": {
        "id": "iMrDaHE6ek5m",
        "colab": {
          "base_uri": "https://localhost:8080/",
          "height": 996
        },
        "outputId": "8a7dab68-658f-40a1-ceb5-aeb2a613637e"
      },
      "outputs": [
        {
          "output_type": "display_data",
          "data": {
            "text/plain": [
              "<Figure size 1200x800 with 1 Axes>"
            ],
            "image/png": "[encoded data removed]"
          },
          "metadata": {}
        },
        {
          "output_type": "stream",
          "name": "stdout",
          "text": [
            "              tfidf  proportion\n",
            "trump       1742.50    0.014638\n",
            "video       1093.39    0.009185\n",
            "say          761.38    0.006396\n",
            "obama        604.02    0.005074\n",
            "hillary      473.95    0.003982\n",
            "house        473.41    0.003977\n",
            "republican   455.87    0.003830\n",
            "clinton      413.49    0.003474\n",
            "watch        409.79    0.003443\n",
            "white        389.92    0.003276\n",
            "president    379.28    0.003186\n",
            "russia       346.62    0.002912\n",
            "state        340.02    0.002856\n",
            "vote         298.77    0.002510\n",
            "election     297.96    0.002503\n"
          ]
        }
      ],
      "source": [
        "\"\"\" Visualizzo le prime 15 parole in termine di pesi TF-IDF\n",
        "\"\"\"\n",
        "top_words = tfidf_df.head(15)\n",
        "\n",
        "palette = sns.color_palette(\"Oranges\", len(top_words))[::-1]\n",
        "\n",
        "plt.figure(figsize=(12, 8))\n",
        "plt.barh(top_words.index, top_words['tfidf'], color=palette)\n",
        "plt.xlabel('TF-IDF')\n",
        "plt.title('Top 15 Words by TF-IDF Score')\n",
        "plt.gca().invert_yaxis()\n",
        "\n",
        "plt.show()\n",
        "\n",
        "print(tfidf_df.head(15))"
      ]
    },
    {
      "cell_type": "markdown",
      "metadata": {
        "id": "JggNuRxTr8Pe"
      },
      "source": [
        "**Analisi di Machine Learning e addestramento del modello con algoritmo di Regressione Logistica**"
      ]
    },
    {
      "cell_type": "code",
      "execution_count": null,
      "metadata": {
        "id": "avjSE-vgfqTf"
      },
      "outputs": [],
      "source": [
        "\"\"\" Definisco variabile indipendente e dipendente\n",
        "\"\"\"\n",
        "X = df_copy['cleaned_text']\n",
        "y = df_copy['type_news']"
      ]
    },
    {
      "cell_type": "code",
      "execution_count": null,
      "metadata": {
        "id": "c-c3a7q7fqeX"
      },
      "outputs": [],
      "source": [
        "X = X.apply(lambda x: ' '.join(x))"
      ]
    },
    {
      "cell_type": "code",
      "execution_count": null,
      "metadata": {
        "id": "F7vfujNRfqot"
      },
      "outputs": [],
      "source": [
        "\"\"\" Splitto il dataframe in set di addestramento e set di test, assegnando a quest' ultimo quota del 20%\n",
        "\"\"\"\n",
        "x_train, x_test, y_train, y_test = train_test_split(X, y, test_size=0.2, random_state=1)"
      ]
    },
    {
      "cell_type": "code",
      "execution_count": null,
      "metadata": {
        "id": "9B-VdtE-uD1l"
      },
      "outputs": [],
      "source": [
        "vectorizer = TfidfVectorizer()\n",
        "\n",
        "x_train_vectorized = vectorizer.fit_transform(x_train)\n",
        "x_test_vectorized = vectorizer.transform(x_test)"
      ]
    },
    {
      "cell_type": "code",
      "execution_count": null,
      "metadata": {
        "id": "W9L9A8n_vUrc",
        "colab": {
          "base_uri": "https://localhost:8080/",
          "height": 80
        },
        "outputId": "8e8460cd-65c6-42e1-a5a6-61f2bfc73351"
      },
      "outputs": [
        {
          "output_type": "execute_result",
          "data": {
            "text/plain": [
              "LogisticRegression()"
            ],
            "text/html": [
              "<style>#sk-container-id-1 {\n",
              "  /* Definition of color scheme common for light and dark mode */\n",
              "  --sklearn-color-text: #000;\n",
              "  --sklearn-color-text-muted: #666;\n",
              "  --sklearn-color-line: gray;\n",
              "  /* Definition of color scheme for unfitted estimators */\n",
              "  --sklearn-color-unfitted-level-0: #fff5e6;\n",
              "  --sklearn-color-unfitted-level-1: #f6e4d2;\n",
              "  --sklearn-color-unfitted-level-2: #ffe0b3;\n",
              "  --sklearn-color-unfitted-level-3: chocolate;\n",
              "  /* Definition of color scheme for fitted estimators */\n",
              "  --sklearn-color-fitted-level-0: #f0f8ff;\n",
              "  --sklearn-color-fitted-level-1: #d4ebff;\n",
              "  --sklearn-color-fitted-level-2: #b3dbfd;\n",
              "  --sklearn-color-fitted-level-3: cornflowerblue;\n",
              "\n",
              "  /* Specific color for light theme */\n",
              "  --sklearn-color-text-on-default-background: var(--sg-text-color, var(--theme-code-foreground, var(--jp-content-font-color1, black)));\n",
              "  --sklearn-color-background: var(--sg-background-color, var(--theme-background, var(--jp-layout-color0, white)));\n",
              "  --sklearn-color-border-box: var(--sg-text-color, var(--theme-code-foreground, var(--jp-content-font-color1, black)));\n",
              "  --sklearn-color-icon: #696969;\n",
              "\n",
              "  @media (prefers-color-scheme: dark) {\n",
              "    /* Redefinition of color scheme for dark theme */\n",
              "    --sklearn-color-text-on-default-background: var(--sg-text-color, var(--theme-code-foreground, var(--jp-content-font-color1, white)));\n",
              "    --sklearn-color-background: var(--sg-background-color, var(--theme-background, var(--jp-layout-color0, #111)));\n",
              "    --sklearn-color-border-box: var(--sg-text-color, var(--theme-code-foreground, var(--jp-content-font-color1, white)));\n",
              "    --sklearn-color-icon: #878787;\n",
              "  }\n",
              "}\n",
              "\n",
              "#sk-container-id-1 {\n",
              "  color: var(--sklearn-color-text);\n",
              "}\n",
              "\n",
              "#sk-container-id-1 pre {\n",
              "  padding: 0;\n",
              "}\n",
              "\n",
              "#sk-container-id-1 input.sk-hidden--visually {\n",
              "  border: 0;\n",
              "  clip: rect(1px 1px 1px 1px);\n",
              "  clip: rect(1px, 1px, 1px, 1px);\n",
              "  height: 1px;\n",
              "  margin: -1px;\n",
              "  overflow: hidden;\n",
              "  padding: 0;\n",
              "  position: absolute;\n",
              "  width: 1px;\n",
              "}\n",
              "\n",
              "#sk-container-id-1 div.sk-dashed-wrapped {\n",
              "  border: 1px dashed var(--sklearn-color-line);\n",
              "  margin: 0 0.4em 0.5em 0.4em;\n",
              "  box-sizing: border-box;\n",
              "  padding-bottom: 0.4em;\n",
              "  background-color: var(--sklearn-color-background);\n",
              "}\n",
              "\n",
              "#sk-container-id-1 div.sk-container {\n",
              "  /* jupyter's `normalize.less` sets `[hidden] { display: none; }`\n",
              "     but bootstrap.min.css set `[hidden] { display: none !important; }`\n",
              "     so we also need the `!important` here to be able to override the\n",
              "     default hidden behavior on the sphinx rendered scikit-learn.org.\n",
              "     See: https://github.com/scikit-learn/scikit-learn/issues/21755 */\n",
              "  display: inline-block !important;\n",
              "  position: relative;\n",
              "}\n",
              "\n",
              "#sk-container-id-1 div.sk-text-repr-fallback {\n",
              "  display: none;\n",
              "}\n",
              "\n",
              "div.sk-parallel-item,\n",
              "div.sk-serial,\n",
              "div.sk-item {\n",
              "  /* draw centered vertical line to link estimators */\n",
              "  background-image: linear-gradient(var(--sklearn-color-text-on-default-background), var(--sklearn-color-text-on-default-background));\n",
              "  background-size: 2px 100%;\n",
              "  background-repeat: no-repeat;\n",
              "  background-position: center center;\n",
              "}\n",
              "\n",
              "/* Parallel-specific style estimator block */\n",
              "\n",
              "#sk-container-id-1 div.sk-parallel-item::after {\n",
              "  content: \"\";\n",
              "  width: 100%;\n",
              "  border-bottom: 2px solid var(--sklearn-color-text-on-default-background);\n",
              "  flex-grow: 1;\n",
              "}\n",
              "\n",
              "#sk-container-id-1 div.sk-parallel {\n",
              "  display: flex;\n",
              "  align-items: stretch;\n",
              "  justify-content: center;\n",
              "  background-color: var(--sklearn-color-background);\n",
              "  position: relative;\n",
              "}\n",
              "\n",
              "#sk-container-id-1 div.sk-parallel-item {\n",
              "  display: flex;\n",
              "  flex-direction: column;\n",
              "}\n",
              "\n",
              "#sk-container-id-1 div.sk-parallel-item:first-child::after {\n",
              "  align-self: flex-end;\n",
              "  width: 50%;\n",
              "}\n",
              "\n",
              "#sk-container-id-1 div.sk-parallel-item:last-child::after {\n",
              "  align-self: flex-start;\n",
              "  width: 50%;\n",
              "}\n",
              "\n",
              "#sk-container-id-1 div.sk-parallel-item:only-child::after {\n",
              "  width: 0;\n",
              "}\n",
              "\n",
              "/* Serial-specific style estimator block */\n",
              "\n",
              "#sk-container-id-1 div.sk-serial {\n",
              "  display: flex;\n",
              "  flex-direction: column;\n",
              "  align-items: center;\n",
              "  background-color: var(--sklearn-color-background);\n",
              "  padding-right: 1em;\n",
              "  padding-left: 1em;\n",
              "}\n",
              "\n",
              "\n",
              "/* Toggleable style: style used for estimator/Pipeline/ColumnTransformer box that is\n",
              "clickable and can be expanded/collapsed.\n",
              "- Pipeline and ColumnTransformer use this feature and define the default style\n",
              "- Estimators will overwrite some part of the style using the `sk-estimator` class\n",
              "*/\n",
              "\n",
              "/* Pipeline and ColumnTransformer style (default) */\n",
              "\n",
              "#sk-container-id-1 div.sk-toggleable {\n",
              "  /* Default theme specific background. It is overwritten whether we have a\n",
              "  specific estimator or a Pipeline/ColumnTransformer */\n",
              "  background-color: var(--sklearn-color-background);\n",
              "}\n",
              "\n",
              "/* Toggleable label */\n",
              "#sk-container-id-1 label.sk-toggleable__label {\n",
              "  cursor: pointer;\n",
              "  display: flex;\n",
              "  width: 100%;\n",
              "  margin-bottom: 0;\n",
              "  padding: 0.5em;\n",
              "  box-sizing: border-box;\n",
              "  text-align: center;\n",
              "  align-items: start;\n",
              "  justify-content: space-between;\n",
              "  gap: 0.5em;\n",
              "}\n",
              "\n",
              "#sk-container-id-1 label.sk-toggleable__label .caption {\n",
              "  font-size: 0.6rem;\n",
              "  font-weight: lighter;\n",
              "  color: var(--sklearn-color-text-muted);\n",
              "}\n",
              "\n",
              "#sk-container-id-1 label.sk-toggleable__label-arrow:before {\n",
              "  /* Arrow on the left of the label */\n",
              "  content: \"▸\";\n",
              "  float: left;\n",
              "  margin-right: 0.25em;\n",
              "  color: var(--sklearn-color-icon);\n",
              "}\n",
              "\n",
              "#sk-container-id-1 label.sk-toggleable__label-arrow:hover:before {\n",
              "  color: var(--sklearn-color-text);\n",
              "}\n",
              "\n",
              "/* Toggleable content - dropdown */\n",
              "\n",
              "#sk-container-id-1 div.sk-toggleable__content {\n",
              "  max-height: 0;\n",
              "  max-width: 0;\n",
              "  overflow: hidden;\n",
              "  text-align: left;\n",
              "  /* unfitted */\n",
              "  background-color: var(--sklearn-color-unfitted-level-0);\n",
              "}\n",
              "\n",
              "#sk-container-id-1 div.sk-toggleable__content.fitted {\n",
              "  /* fitted */\n",
              "  background-color: var(--sklearn-color-fitted-level-0);\n",
              "}\n",
              "\n",
              "#sk-container-id-1 div.sk-toggleable__content pre {\n",
              "  margin: 0.2em;\n",
              "  border-radius: 0.25em;\n",
              "  color: var(--sklearn-color-text);\n",
              "  /* unfitted */\n",
              "  background-color: var(--sklearn-color-unfitted-level-0);\n",
              "}\n",
              "\n",
              "#sk-container-id-1 div.sk-toggleable__content.fitted pre {\n",
              "  /* unfitted */\n",
              "  background-color: var(--sklearn-color-fitted-level-0);\n",
              "}\n",
              "\n",
              "#sk-container-id-1 input.sk-toggleable__control:checked~div.sk-toggleable__content {\n",
              "  /* Expand drop-down */\n",
              "  max-height: 200px;\n",
              "  max-width: 100%;\n",
              "  overflow: auto;\n",
              "}\n",
              "\n",
              "#sk-container-id-1 input.sk-toggleable__control:checked~label.sk-toggleable__label-arrow:before {\n",
              "  content: \"▾\";\n",
              "}\n",
              "\n",
              "/* Pipeline/ColumnTransformer-specific style */\n",
              "\n",
              "#sk-container-id-1 div.sk-label input.sk-toggleable__control:checked~label.sk-toggleable__label {\n",
              "  color: var(--sklearn-color-text);\n",
              "  background-color: var(--sklearn-color-unfitted-level-2);\n",
              "}\n",
              "\n",
              "#sk-container-id-1 div.sk-label.fitted input.sk-toggleable__control:checked~label.sk-toggleable__label {\n",
              "  background-color: var(--sklearn-color-fitted-level-2);\n",
              "}\n",
              "\n",
              "/* Estimator-specific style */\n",
              "\n",
              "/* Colorize estimator box */\n",
              "#sk-container-id-1 div.sk-estimator input.sk-toggleable__control:checked~label.sk-toggleable__label {\n",
              "  /* unfitted */\n",
              "  background-color: var(--sklearn-color-unfitted-level-2);\n",
              "}\n",
              "\n",
              "#sk-container-id-1 div.sk-estimator.fitted input.sk-toggleable__control:checked~label.sk-toggleable__label {\n",
              "  /* fitted */\n",
              "  background-color: var(--sklearn-color-fitted-level-2);\n",
              "}\n",
              "\n",
              "#sk-container-id-1 div.sk-label label.sk-toggleable__label,\n",
              "#sk-container-id-1 div.sk-label label {\n",
              "  /* The background is the default theme color */\n",
              "  color: var(--sklearn-color-text-on-default-background);\n",
              "}\n",
              "\n",
              "/* On hover, darken the color of the background */\n",
              "#sk-container-id-1 div.sk-label:hover label.sk-toggleable__label {\n",
              "  color: var(--sklearn-color-text);\n",
              "  background-color: var(--sklearn-color-unfitted-level-2);\n",
              "}\n",
              "\n",
              "/* Label box, darken color on hover, fitted */\n",
              "#sk-container-id-1 div.sk-label.fitted:hover label.sk-toggleable__label.fitted {\n",
              "  color: var(--sklearn-color-text);\n",
              "  background-color: var(--sklearn-color-fitted-level-2);\n",
              "}\n",
              "\n",
              "/* Estimator label */\n",
              "\n",
              "#sk-container-id-1 div.sk-label label {\n",
              "  font-family: monospace;\n",
              "  font-weight: bold;\n",
              "  display: inline-block;\n",
              "  line-height: 1.2em;\n",
              "}\n",
              "\n",
              "#sk-container-id-1 div.sk-label-container {\n",
              "  text-align: center;\n",
              "}\n",
              "\n",
              "/* Estimator-specific */\n",
              "#sk-container-id-1 div.sk-estimator {\n",
              "  font-family: monospace;\n",
              "  border: 1px dotted var(--sklearn-color-border-box);\n",
              "  border-radius: 0.25em;\n",
              "  box-sizing: border-box;\n",
              "  margin-bottom: 0.5em;\n",
              "  /* unfitted */\n",
              "  background-color: var(--sklearn-color-unfitted-level-0);\n",
              "}\n",
              "\n",
              "#sk-container-id-1 div.sk-estimator.fitted {\n",
              "  /* fitted */\n",
              "  background-color: var(--sklearn-color-fitted-level-0);\n",
              "}\n",
              "\n",
              "/* on hover */\n",
              "#sk-container-id-1 div.sk-estimator:hover {\n",
              "  /* unfitted */\n",
              "  background-color: var(--sklearn-color-unfitted-level-2);\n",
              "}\n",
              "\n",
              "#sk-container-id-1 div.sk-estimator.fitted:hover {\n",
              "  /* fitted */\n",
              "  background-color: var(--sklearn-color-fitted-level-2);\n",
              "}\n",
              "\n",
              "/* Specification for estimator info (e.g. \"i\" and \"?\") */\n",
              "\n",
              "/* Common style for \"i\" and \"?\" */\n",
              "\n",
              ".sk-estimator-doc-link,\n",
              "a:link.sk-estimator-doc-link,\n",
              "a:visited.sk-estimator-doc-link {\n",
              "  float: right;\n",
              "  font-size: smaller;\n",
              "  line-height: 1em;\n",
              "  font-family: monospace;\n",
              "  background-color: var(--sklearn-color-background);\n",
              "  border-radius: 1em;\n",
              "  height: 1em;\n",
              "  width: 1em;\n",
              "  text-decoration: none !important;\n",
              "  margin-left: 0.5em;\n",
              "  text-align: center;\n",
              "  /* unfitted */\n",
              "  border: var(--sklearn-color-unfitted-level-1) 1pt solid;\n",
              "  color: var(--sklearn-color-unfitted-level-1);\n",
              "}\n",
              "\n",
              ".sk-estimator-doc-link.fitted,\n",
              "a:link.sk-estimator-doc-link.fitted,\n",
              "a:visited.sk-estimator-doc-link.fitted {\n",
              "  /* fitted */\n",
              "  border: var(--sklearn-color-fitted-level-1) 1pt solid;\n",
              "  color: var(--sklearn-color-fitted-level-1);\n",
              "}\n",
              "\n",
              "/* On hover */\n",
              "div.sk-estimator:hover .sk-estimator-doc-link:hover,\n",
              ".sk-estimator-doc-link:hover,\n",
              "div.sk-label-container:hover .sk-estimator-doc-link:hover,\n",
              ".sk-estimator-doc-link:hover {\n",
              "  /* unfitted */\n",
              "  background-color: var(--sklearn-color-unfitted-level-3);\n",
              "  color: var(--sklearn-color-background);\n",
              "  text-decoration: none;\n",
              "}\n",
              "\n",
              "div.sk-estimator.fitted:hover .sk-estimator-doc-link.fitted:hover,\n",
              ".sk-estimator-doc-link.fitted:hover,\n",
              "div.sk-label-container:hover .sk-estimator-doc-link.fitted:hover,\n",
              ".sk-estimator-doc-link.fitted:hover {\n",
              "  /* fitted */\n",
              "  background-color: var(--sklearn-color-fitted-level-3);\n",
              "  color: var(--sklearn-color-background);\n",
              "  text-decoration: none;\n",
              "}\n",
              "\n",
              "/* Span, style for the box shown on hovering the info icon */\n",
              ".sk-estimator-doc-link span {\n",
              "  display: none;\n",
              "  z-index: 9999;\n",
              "  position: relative;\n",
              "  font-weight: normal;\n",
              "  right: .2ex;\n",
              "  padding: .5ex;\n",
              "  margin: .5ex;\n",
              "  width: min-content;\n",
              "  min-width: 20ex;\n",
              "  max-width: 50ex;\n",
              "  color: var(--sklearn-color-text);\n",
              "  box-shadow: 2pt 2pt 4pt #999;\n",
              "  /* unfitted */\n",
              "  background: var(--sklearn-color-unfitted-level-0);\n",
              "  border: .5pt solid var(--sklearn-color-unfitted-level-3);\n",
              "}\n",
              "\n",
              ".sk-estimator-doc-link.fitted span {\n",
              "  /* fitted */\n",
              "  background: var(--sklearn-color-fitted-level-0);\n",
              "  border: var(--sklearn-color-fitted-level-3);\n",
              "}\n",
              "\n",
              ".sk-estimator-doc-link:hover span {\n",
              "  display: block;\n",
              "}\n",
              "\n",
              "/* \"?\"-specific style due to the `<a>` HTML tag */\n",
              "\n",
              "#sk-container-id-1 a.estimator_doc_link {\n",
              "  float: right;\n",
              "  font-size: 1rem;\n",
              "  line-height: 1em;\n",
              "  font-family: monospace;\n",
              "  background-color: var(--sklearn-color-background);\n",
              "  border-radius: 1rem;\n",
              "  height: 1rem;\n",
              "  width: 1rem;\n",
              "  text-decoration: none;\n",
              "  /* unfitted */\n",
              "  color: var(--sklearn-color-unfitted-level-1);\n",
              "  border: var(--sklearn-color-unfitted-level-1) 1pt solid;\n",
              "}\n",
              "\n",
              "#sk-container-id-1 a.estimator_doc_link.fitted {\n",
              "  /* fitted */\n",
              "  border: var(--sklearn-color-fitted-level-1) 1pt solid;\n",
              "  color: var(--sklearn-color-fitted-level-1);\n",
              "}\n",
              "\n",
              "/* On hover */\n",
              "#sk-container-id-1 a.estimator_doc_link:hover {\n",
              "  /* unfitted */\n",
              "  background-color: var(--sklearn-color-unfitted-level-3);\n",
              "  color: var(--sklearn-color-background);\n",
              "  text-decoration: none;\n",
              "}\n",
              "\n",
              "#sk-container-id-1 a.estimator_doc_link.fitted:hover {\n",
              "  /* fitted */\n",
              "  background-color: var(--sklearn-color-fitted-level-3);\n",
              "}\n",
              "</style><div id=\"sk-container-id-1\" class=\"sk-top-container\"><div class=\"sk-text-repr-fallback\"><pre>LogisticRegression()</pre><b>In a Jupyter environment, please rerun this cell to show the HTML representation or trust the notebook. <br />On GitHub, the HTML representation is unable to render, please try loading this page with nbviewer.org.</b></div><div class=\"sk-container\" hidden><div class=\"sk-item\"><div class=\"sk-estimator fitted sk-toggleable\"><input class=\"sk-toggleable__control sk-hidden--visually\" id=\"sk-estimator-id-1\" type=\"checkbox\" checked><label for=\"sk-estimator-id-1\" class=\"sk-toggleable__label fitted sk-toggleable__label-arrow\"><div><div>LogisticRegression</div></div><div><a class=\"sk-estimator-doc-link fitted\" rel=\"noreferrer\" target=\"_blank\" href=\"https://scikit-learn.org/1.6/modules/generated/sklearn.linear_model.LogisticRegression.html\">?<span>Documentation for LogisticRegression</span></a><span class=\"sk-estimator-doc-link fitted\">i<span>Fitted</span></span></div></label><div class=\"sk-toggleable__content fitted\"><pre>LogisticRegression()</pre></div> </div></div></div></div>"
            ]
          },
          "metadata": {},
          "execution_count": 45
        }
      ],
      "source": [
        "lr_model = LogisticRegression()\n",
        "lr_model.fit(x_train_vectorized, y_train)"
      ]
    },
    {
      "cell_type": "code",
      "execution_count": null,
      "metadata": {
        "id": "wr-nF-E7uEXY",
        "colab": {
          "base_uri": "https://localhost:8080/"
        },
        "outputId": "ef753ee9-73dc-4574-c93e-82fd4bafcdf2"
      },
      "outputs": [
        {
          "output_type": "stream",
          "name": "stdout",
          "text": [
            "Report di classificazione sul set di addestramento:\n",
            "              precision    recall  f1-score   support\n",
            "\n",
            "        fake       0.99      0.99      0.99     18301\n",
            "        true       0.99      0.99      0.99     16942\n",
            "\n",
            "    accuracy                           0.99     35243\n",
            "   macro avg       0.99      0.99      0.99     35243\n",
            "weighted avg       0.99      0.99      0.99     35243\n",
            "\n",
            "Accuracy sul set di addestramento: 0.9870612603921346\n",
            "\n",
            "Report di classificazione sul set di test:\n",
            "              precision    recall  f1-score   support\n",
            "\n",
            "        fake       0.98      0.98      0.98      4546\n",
            "        true       0.98      0.98      0.98      4265\n",
            "\n",
            "    accuracy                           0.98      8811\n",
            "   macro avg       0.98      0.98      0.98      8811\n",
            "weighted avg       0.98      0.98      0.98      8811\n",
            "\n",
            "Accuracy sul set di test: 0.9803654522755646\n"
          ]
        }
      ],
      "source": [
        "\"\"\" valuto le metriche su set di addestramento e su set di test ponendo\n",
        "    attenzione sul valore di accuracy per determinare la presenza o meno di overfitting\n",
        "\"\"\"\n",
        "y_train_pred = lr_model.predict(x_train_vectorized)\n",
        "print(\"Report di classificazione sul set di addestramento:\")\n",
        "print(classification_report(y_train, y_train_pred))\n",
        "print(\"Accuracy sul set di addestramento:\", accuracy_score(y_train, y_train_pred))\n",
        "\n",
        "y_pred = lr_model.predict(x_test_vectorized)\n",
        "print(\"\\nReport di classificazione sul set di test:\")\n",
        "print(classification_report(y_test, y_pred))\n",
        "print(\"Accuracy sul set di test:\", accuracy_score(y_test, y_pred))"
      ]
    },
    {
      "cell_type": "code",
      "execution_count": null,
      "metadata": {
        "id": "tJ5qqawOuEZ7",
        "colab": {
          "base_uri": "https://localhost:8080/"
        },
        "outputId": "a815e774-27c6-4286-b2ea-fb2e7b6369ca"
      },
      "outputs": [
        {
          "output_type": "stream",
          "name": "stdout",
          "text": [
            "Top positive features:\n",
            " ['militant' 'london' 'spokeswoman' 'moscow' 'prosecutor' 'kill'\n",
            " 'presidential' 'united' 'democratic' 'statement' 'representative'\n",
            " 'spokesman' 'minister' 'friday' 'monday' 'washington' 'tuesday'\n",
            " 'thursday' 'wednesday' 'reuters']\n",
            "Top negative features:\n",
            " ['feature' 'image' 'hillary' 'america' 'century' 'american' 'entire'\n",
            " 'actually' 'breitbart' 'twitter' 'terrorist' 'wouldn' 'report' 'course'\n",
            " 'pretty' 'taxpayer' 'morning' 'reportedly' 'reason' 'subscribe']\n"
          ]
        }
      ],
      "source": [
        "\"\"\" Recuepero i nomi delle caratteristiche dal TfidfVectorizer per avere un array contenente i termini del vocabolario\n",
        "    utilizzati per creare le caratteristiche TF-IDF\n",
        "\"\"\"\n",
        "feature_names = vectorizer.get_feature_names_out()\n",
        "\n",
        "# Ottiengo gli indici ordinati\n",
        "sorted_coef_index = lr_model.coef_[0].argsort()\n",
        "\n",
        "print(\"Top positive features:\\n\", feature_names[sorted_coef_index[-20:]])\n",
        "print(\"Top negative features:\\n\", feature_names[sorted_coef_index[:20]])"
      ]
    },
    {
      "cell_type": "code",
      "execution_count": null,
      "metadata": {
        "id": "lN6wWWOuuEcb",
        "colab": {
          "base_uri": "https://localhost:8080/",
          "height": 368
        },
        "outputId": "f6502a87-2f99-408e-fe52-cf6b7ad854c9"
      },
      "outputs": [
        {
          "output_type": "display_data",
          "data": {
            "text/plain": [
              "<Figure size 600x400 with 2 Axes>"
            ],
            "image/png": "[encoded data removed]"
          },
          "metadata": {}
        }
      ],
      "source": [
        "confusion_matrix = cm(y_test, y_pred)\n",
        "\n",
        "plt.figure(figsize=(6,4))\n",
        "sns.heatmap(confusion_matrix, annot=True, fmt='d', cmap='Oranges', xticklabels=['Fake', 'True'], yticklabels=['Fake', 'True'])\n",
        "plt.show()"
      ]
    },
    {
      "cell_type": "code",
      "execution_count": null,
      "metadata": {
        "id": "ghMrwIUp09Hl"
      },
      "outputs": [],
      "source": [
        "\"\"\" esporto in formato pickle\n",
        "\"\"\"\n",
        "with open('machine_learning_model.pkl','wb') as file:\n",
        "    pickle.dump(lr_model, file)"
      ]
    },
    {
      "cell_type": "markdown",
      "metadata": {
        "id": "XcVuT-ZQ4Cw6"
      },
      "source": [
        "**Analisi di Natural Language Processing e addestramento del modello con algoritmo Bayesiano**"
      ]
    },
    {
      "cell_type": "code",
      "execution_count": null,
      "metadata": {
        "id": "L831R_if09bc",
        "colab": {
          "base_uri": "https://localhost:8080/",
          "height": 80
        },
        "outputId": "b24b3dbf-d801-4560-e0f9-dfbe280acf90"
      },
      "outputs": [
        {
          "output_type": "execute_result",
          "data": {
            "text/plain": [
              "MultinomialNB()"
            ],
            "text/html": [
              "<style>#sk-container-id-2 {\n",
              "  /* Definition of color scheme common for light and dark mode */\n",
              "  --sklearn-color-text: #000;\n",
              "  --sklearn-color-text-muted: #666;\n",
              "  --sklearn-color-line: gray;\n",
              "  /* Definition of color scheme for unfitted estimators */\n",
              "  --sklearn-color-unfitted-level-0: #fff5e6;\n",
              "  --sklearn-color-unfitted-level-1: #f6e4d2;\n",
              "  --sklearn-color-unfitted-level-2: #ffe0b3;\n",
              "  --sklearn-color-unfitted-level-3: chocolate;\n",
              "  /* Definition of color scheme for fitted estimators */\n",
              "  --sklearn-color-fitted-level-0: #f0f8ff;\n",
              "  --sklearn-color-fitted-level-1: #d4ebff;\n",
              "  --sklearn-color-fitted-level-2: #b3dbfd;\n",
              "  --sklearn-color-fitted-level-3: cornflowerblue;\n",
              "\n",
              "  /* Specific color for light theme */\n",
              "  --sklearn-color-text-on-default-background: var(--sg-text-color, var(--theme-code-foreground, var(--jp-content-font-color1, black)));\n",
              "  --sklearn-color-background: var(--sg-background-color, var(--theme-background, var(--jp-layout-color0, white)));\n",
              "  --sklearn-color-border-box: var(--sg-text-color, var(--theme-code-foreground, var(--jp-content-font-color1, black)));\n",
              "  --sklearn-color-icon: #696969;\n",
              "\n",
              "  @media (prefers-color-scheme: dark) {\n",
              "    /* Redefinition of color scheme for dark theme */\n",
              "    --sklearn-color-text-on-default-background: var(--sg-text-color, var(--theme-code-foreground, var(--jp-content-font-color1, white)));\n",
              "    --sklearn-color-background: var(--sg-background-color, var(--theme-background, var(--jp-layout-color0, #111)));\n",
              "    --sklearn-color-border-box: var(--sg-text-color, var(--theme-code-foreground, var(--jp-content-font-color1, white)));\n",
              "    --sklearn-color-icon: #878787;\n",
              "  }\n",
              "}\n",
              "\n",
              "#sk-container-id-2 {\n",
              "  color: var(--sklearn-color-text);\n",
              "}\n",
              "\n",
              "#sk-container-id-2 pre {\n",
              "  padding: 0;\n",
              "}\n",
              "\n",
              "#sk-container-id-2 input.sk-hidden--visually {\n",
              "  border: 0;\n",
              "  clip: rect(1px 1px 1px 1px);\n",
              "  clip: rect(1px, 1px, 1px, 1px);\n",
              "  height: 1px;\n",
              "  margin: -1px;\n",
              "  overflow: hidden;\n",
              "  padding: 0;\n",
              "  position: absolute;\n",
              "  width: 1px;\n",
              "}\n",
              "\n",
              "#sk-container-id-2 div.sk-dashed-wrapped {\n",
              "  border: 1px dashed var(--sklearn-color-line);\n",
              "  margin: 0 0.4em 0.5em 0.4em;\n",
              "  box-sizing: border-box;\n",
              "  padding-bottom: 0.4em;\n",
              "  background-color: var(--sklearn-color-background);\n",
              "}\n",
              "\n",
              "#sk-container-id-2 div.sk-container {\n",
              "  /* jupyter's `normalize.less` sets `[hidden] { display: none; }`\n",
              "     but bootstrap.min.css set `[hidden] { display: none !important; }`\n",
              "     so we also need the `!important` here to be able to override the\n",
              "     default hidden behavior on the sphinx rendered scikit-learn.org.\n",
              "     See: https://github.com/scikit-learn/scikit-learn/issues/21755 */\n",
              "  display: inline-block !important;\n",
              "  position: relative;\n",
              "}\n",
              "\n",
              "#sk-container-id-2 div.sk-text-repr-fallback {\n",
              "  display: none;\n",
              "}\n",
              "\n",
              "div.sk-parallel-item,\n",
              "div.sk-serial,\n",
              "div.sk-item {\n",
              "  /* draw centered vertical line to link estimators */\n",
              "  background-image: linear-gradient(var(--sklearn-color-text-on-default-background), var(--sklearn-color-text-on-default-background));\n",
              "  background-size: 2px 100%;\n",
              "  background-repeat: no-repeat;\n",
              "  background-position: center center;\n",
              "}\n",
              "\n",
              "/* Parallel-specific style estimator block */\n",
              "\n",
              "#sk-container-id-2 div.sk-parallel-item::after {\n",
              "  content: \"\";\n",
              "  width: 100%;\n",
              "  border-bottom: 2px solid var(--sklearn-color-text-on-default-background);\n",
              "  flex-grow: 1;\n",
              "}\n",
              "\n",
              "#sk-container-id-2 div.sk-parallel {\n",
              "  display: flex;\n",
              "  align-items: stretch;\n",
              "  justify-content: center;\n",
              "  background-color: var(--sklearn-color-background);\n",
              "  position: relative;\n",
              "}\n",
              "\n",
              "#sk-container-id-2 div.sk-parallel-item {\n",
              "  display: flex;\n",
              "  flex-direction: column;\n",
              "}\n",
              "\n",
              "#sk-container-id-2 div.sk-parallel-item:first-child::after {\n",
              "  align-self: flex-end;\n",
              "  width: 50%;\n",
              "}\n",
              "\n",
              "#sk-container-id-2 div.sk-parallel-item:last-child::after {\n",
              "  align-self: flex-start;\n",
              "  width: 50%;\n",
              "}\n",
              "\n",
              "#sk-container-id-2 div.sk-parallel-item:only-child::after {\n",
              "  width: 0;\n",
              "}\n",
              "\n",
              "/* Serial-specific style estimator block */\n",
              "\n",
              "#sk-container-id-2 div.sk-serial {\n",
              "  display: flex;\n",
              "  flex-direction: column;\n",
              "  align-items: center;\n",
              "  background-color: var(--sklearn-color-background);\n",
              "  padding-right: 1em;\n",
              "  padding-left: 1em;\n",
              "}\n",
              "\n",
              "\n",
              "/* Toggleable style: style used for estimator/Pipeline/ColumnTransformer box that is\n",
              "clickable and can be expanded/collapsed.\n",
              "- Pipeline and ColumnTransformer use this feature and define the default style\n",
              "- Estimators will overwrite some part of the style using the `sk-estimator` class\n",
              "*/\n",
              "\n",
              "/* Pipeline and ColumnTransformer style (default) */\n",
              "\n",
              "#sk-container-id-2 div.sk-toggleable {\n",
              "  /* Default theme specific background. It is overwritten whether we have a\n",
              "  specific estimator or a Pipeline/ColumnTransformer */\n",
              "  background-color: var(--sklearn-color-background);\n",
              "}\n",
              "\n",
              "/* Toggleable label */\n",
              "#sk-container-id-2 label.sk-toggleable__label {\n",
              "  cursor: pointer;\n",
              "  display: flex;\n",
              "  width: 100%;\n",
              "  margin-bottom: 0;\n",
              "  padding: 0.5em;\n",
              "  box-sizing: border-box;\n",
              "  text-align: center;\n",
              "  align-items: start;\n",
              "  justify-content: space-between;\n",
              "  gap: 0.5em;\n",
              "}\n",
              "\n",
              "#sk-container-id-2 label.sk-toggleable__label .caption {\n",
              "  font-size: 0.6rem;\n",
              "  font-weight: lighter;\n",
              "  color: var(--sklearn-color-text-muted);\n",
              "}\n",
              "\n",
              "#sk-container-id-2 label.sk-toggleable__label-arrow:before {\n",
              "  /* Arrow on the left of the label */\n",
              "  content: \"▸\";\n",
              "  float: left;\n",
              "  margin-right: 0.25em;\n",
              "  color: var(--sklearn-color-icon);\n",
              "}\n",
              "\n",
              "#sk-container-id-2 label.sk-toggleable__label-arrow:hover:before {\n",
              "  color: var(--sklearn-color-text);\n",
              "}\n",
              "\n",
              "/* Toggleable content - dropdown */\n",
              "\n",
              "#sk-container-id-2 div.sk-toggleable__content {\n",
              "  max-height: 0;\n",
              "  max-width: 0;\n",
              "  overflow: hidden;\n",
              "  text-align: left;\n",
              "  /* unfitted */\n",
              "  background-color: var(--sklearn-color-unfitted-level-0);\n",
              "}\n",
              "\n",
              "#sk-container-id-2 div.sk-toggleable__content.fitted {\n",
              "  /* fitted */\n",
              "  background-color: var(--sklearn-color-fitted-level-0);\n",
              "}\n",
              "\n",
              "#sk-container-id-2 div.sk-toggleable__content pre {\n",
              "  margin: 0.2em;\n",
              "  border-radius: 0.25em;\n",
              "  color: var(--sklearn-color-text);\n",
              "  /* unfitted */\n",
              "  background-color: var(--sklearn-color-unfitted-level-0);\n",
              "}\n",
              "\n",
              "#sk-container-id-2 div.sk-toggleable__content.fitted pre {\n",
              "  /* unfitted */\n",
              "  background-color: var(--sklearn-color-fitted-level-0);\n",
              "}\n",
              "\n",
              "#sk-container-id-2 input.sk-toggleable__control:checked~div.sk-toggleable__content {\n",
              "  /* Expand drop-down */\n",
              "  max-height: 200px;\n",
              "  max-width: 100%;\n",
              "  overflow: auto;\n",
              "}\n",
              "\n",
              "#sk-container-id-2 input.sk-toggleable__control:checked~label.sk-toggleable__label-arrow:before {\n",
              "  content: \"▾\";\n",
              "}\n",
              "\n",
              "/* Pipeline/ColumnTransformer-specific style */\n",
              "\n",
              "#sk-container-id-2 div.sk-label input.sk-toggleable__control:checked~label.sk-toggleable__label {\n",
              "  color: var(--sklearn-color-text);\n",
              "  background-color: var(--sklearn-color-unfitted-level-2);\n",
              "}\n",
              "\n",
              "#sk-container-id-2 div.sk-label.fitted input.sk-toggleable__control:checked~label.sk-toggleable__label {\n",
              "  background-color: var(--sklearn-color-fitted-level-2);\n",
              "}\n",
              "\n",
              "/* Estimator-specific style */\n",
              "\n",
              "/* Colorize estimator box */\n",
              "#sk-container-id-2 div.sk-estimator input.sk-toggleable__control:checked~label.sk-toggleable__label {\n",
              "  /* unfitted */\n",
              "  background-color: var(--sklearn-color-unfitted-level-2);\n",
              "}\n",
              "\n",
              "#sk-container-id-2 div.sk-estimator.fitted input.sk-toggleable__control:checked~label.sk-toggleable__label {\n",
              "  /* fitted */\n",
              "  background-color: var(--sklearn-color-fitted-level-2);\n",
              "}\n",
              "\n",
              "#sk-container-id-2 div.sk-label label.sk-toggleable__label,\n",
              "#sk-container-id-2 div.sk-label label {\n",
              "  /* The background is the default theme color */\n",
              "  color: var(--sklearn-color-text-on-default-background);\n",
              "}\n",
              "\n",
              "/* On hover, darken the color of the background */\n",
              "#sk-container-id-2 div.sk-label:hover label.sk-toggleable__label {\n",
              "  color: var(--sklearn-color-text);\n",
              "  background-color: var(--sklearn-color-unfitted-level-2);\n",
              "}\n",
              "\n",
              "/* Label box, darken color on hover, fitted */\n",
              "#sk-container-id-2 div.sk-label.fitted:hover label.sk-toggleable__label.fitted {\n",
              "  color: var(--sklearn-color-text);\n",
              "  background-color: var(--sklearn-color-fitted-level-2);\n",
              "}\n",
              "\n",
              "/* Estimator label */\n",
              "\n",
              "#sk-container-id-2 div.sk-label label {\n",
              "  font-family: monospace;\n",
              "  font-weight: bold;\n",
              "  display: inline-block;\n",
              "  line-height: 1.2em;\n",
              "}\n",
              "\n",
              "#sk-container-id-2 div.sk-label-container {\n",
              "  text-align: center;\n",
              "}\n",
              "\n",
              "/* Estimator-specific */\n",
              "#sk-container-id-2 div.sk-estimator {\n",
              "  font-family: monospace;\n",
              "  border: 1px dotted var(--sklearn-color-border-box);\n",
              "  border-radius: 0.25em;\n",
              "  box-sizing: border-box;\n",
              "  margin-bottom: 0.5em;\n",
              "  /* unfitted */\n",
              "  background-color: var(--sklearn-color-unfitted-level-0);\n",
              "}\n",
              "\n",
              "#sk-container-id-2 div.sk-estimator.fitted {\n",
              "  /* fitted */\n",
              "  background-color: var(--sklearn-color-fitted-level-0);\n",
              "}\n",
              "\n",
              "/* on hover */\n",
              "#sk-container-id-2 div.sk-estimator:hover {\n",
              "  /* unfitted */\n",
              "  background-color: var(--sklearn-color-unfitted-level-2);\n",
              "}\n",
              "\n",
              "#sk-container-id-2 div.sk-estimator.fitted:hover {\n",
              "  /* fitted */\n",
              "  background-color: var(--sklearn-color-fitted-level-2);\n",
              "}\n",
              "\n",
              "/* Specification for estimator info (e.g. \"i\" and \"?\") */\n",
              "\n",
              "/* Common style for \"i\" and \"?\" */\n",
              "\n",
              ".sk-estimator-doc-link,\n",
              "a:link.sk-estimator-doc-link,\n",
              "a:visited.sk-estimator-doc-link {\n",
              "  float: right;\n",
              "  font-size: smaller;\n",
              "  line-height: 1em;\n",
              "  font-family: monospace;\n",
              "  background-color: var(--sklearn-color-background);\n",
              "  border-radius: 1em;\n",
              "  height: 1em;\n",
              "  width: 1em;\n",
              "  text-decoration: none !important;\n",
              "  margin-left: 0.5em;\n",
              "  text-align: center;\n",
              "  /* unfitted */\n",
              "  border: var(--sklearn-color-unfitted-level-1) 1pt solid;\n",
              "  color: var(--sklearn-color-unfitted-level-1);\n",
              "}\n",
              "\n",
              ".sk-estimator-doc-link.fitted,\n",
              "a:link.sk-estimator-doc-link.fitted,\n",
              "a:visited.sk-estimator-doc-link.fitted {\n",
              "  /* fitted */\n",
              "  border: var(--sklearn-color-fitted-level-1) 1pt solid;\n",
              "  color: var(--sklearn-color-fitted-level-1);\n",
              "}\n",
              "\n",
              "/* On hover */\n",
              "div.sk-estimator:hover .sk-estimator-doc-link:hover,\n",
              ".sk-estimator-doc-link:hover,\n",
              "div.sk-label-container:hover .sk-estimator-doc-link:hover,\n",
              ".sk-estimator-doc-link:hover {\n",
              "  /* unfitted */\n",
              "  background-color: var(--sklearn-color-unfitted-level-3);\n",
              "  color: var(--sklearn-color-background);\n",
              "  text-decoration: none;\n",
              "}\n",
              "\n",
              "div.sk-estimator.fitted:hover .sk-estimator-doc-link.fitted:hover,\n",
              ".sk-estimator-doc-link.fitted:hover,\n",
              "div.sk-label-container:hover .sk-estimator-doc-link.fitted:hover,\n",
              ".sk-estimator-doc-link.fitted:hover {\n",
              "  /* fitted */\n",
              "  background-color: var(--sklearn-color-fitted-level-3);\n",
              "  color: var(--sklearn-color-background);\n",
              "  text-decoration: none;\n",
              "}\n",
              "\n",
              "/* Span, style for the box shown on hovering the info icon */\n",
              ".sk-estimator-doc-link span {\n",
              "  display: none;\n",
              "  z-index: 9999;\n",
              "  position: relative;\n",
              "  font-weight: normal;\n",
              "  right: .2ex;\n",
              "  padding: .5ex;\n",
              "  margin: .5ex;\n",
              "  width: min-content;\n",
              "  min-width: 20ex;\n",
              "  max-width: 50ex;\n",
              "  color: var(--sklearn-color-text);\n",
              "  box-shadow: 2pt 2pt 4pt #999;\n",
              "  /* unfitted */\n",
              "  background: var(--sklearn-color-unfitted-level-0);\n",
              "  border: .5pt solid var(--sklearn-color-unfitted-level-3);\n",
              "}\n",
              "\n",
              ".sk-estimator-doc-link.fitted span {\n",
              "  /* fitted */\n",
              "  background: var(--sklearn-color-fitted-level-0);\n",
              "  border: var(--sklearn-color-fitted-level-3);\n",
              "}\n",
              "\n",
              ".sk-estimator-doc-link:hover span {\n",
              "  display: block;\n",
              "}\n",
              "\n",
              "/* \"?\"-specific style due to the `<a>` HTML tag */\n",
              "\n",
              "#sk-container-id-2 a.estimator_doc_link {\n",
              "  float: right;\n",
              "  font-size: 1rem;\n",
              "  line-height: 1em;\n",
              "  font-family: monospace;\n",
              "  background-color: var(--sklearn-color-background);\n",
              "  border-radius: 1rem;\n",
              "  height: 1rem;\n",
              "  width: 1rem;\n",
              "  text-decoration: none;\n",
              "  /* unfitted */\n",
              "  color: var(--sklearn-color-unfitted-level-1);\n",
              "  border: var(--sklearn-color-unfitted-level-1) 1pt solid;\n",
              "}\n",
              "\n",
              "#sk-container-id-2 a.estimator_doc_link.fitted {\n",
              "  /* fitted */\n",
              "  border: var(--sklearn-color-fitted-level-1) 1pt solid;\n",
              "  color: var(--sklearn-color-fitted-level-1);\n",
              "}\n",
              "\n",
              "/* On hover */\n",
              "#sk-container-id-2 a.estimator_doc_link:hover {\n",
              "  /* unfitted */\n",
              "  background-color: var(--sklearn-color-unfitted-level-3);\n",
              "  color: var(--sklearn-color-background);\n",
              "  text-decoration: none;\n",
              "}\n",
              "\n",
              "#sk-container-id-2 a.estimator_doc_link.fitted:hover {\n",
              "  /* fitted */\n",
              "  background-color: var(--sklearn-color-fitted-level-3);\n",
              "}\n",
              "</style><div id=\"sk-container-id-2\" class=\"sk-top-container\"><div class=\"sk-text-repr-fallback\"><pre>MultinomialNB()</pre><b>In a Jupyter environment, please rerun this cell to show the HTML representation or trust the notebook. <br />On GitHub, the HTML representation is unable to render, please try loading this page with nbviewer.org.</b></div><div class=\"sk-container\" hidden><div class=\"sk-item\"><div class=\"sk-estimator fitted sk-toggleable\"><input class=\"sk-toggleable__control sk-hidden--visually\" id=\"sk-estimator-id-2\" type=\"checkbox\" checked><label for=\"sk-estimator-id-2\" class=\"sk-toggleable__label fitted sk-toggleable__label-arrow\"><div><div>MultinomialNB</div></div><div><a class=\"sk-estimator-doc-link fitted\" rel=\"noreferrer\" target=\"_blank\" href=\"https://scikit-learn.org/1.6/modules/generated/sklearn.naive_bayes.MultinomialNB.html\">?<span>Documentation for MultinomialNB</span></a><span class=\"sk-estimator-doc-link fitted\">i<span>Fitted</span></span></div></label><div class=\"sk-toggleable__content fitted\"><pre>MultinomialNB()</pre></div> </div></div></div></div>"
            ]
          },
          "metadata": {},
          "execution_count": 50
        }
      ],
      "source": [
        "bayesian_model = MultinomialNB()\n",
        "bayesian_model.fit(x_train_vectorized, y_train)"
      ]
    },
    {
      "cell_type": "code",
      "execution_count": null,
      "metadata": {
        "id": "LZsmM4Bj09f3",
        "colab": {
          "base_uri": "https://localhost:8080/"
        },
        "outputId": "97850509-c3ae-47d6-d60b-0b79ee95bc81"
      },
      "outputs": [
        {
          "output_type": "stream",
          "name": "stdout",
          "text": [
            "              precision    recall  f1-score   support\n",
            "\n",
            "        fake       0.92      0.92      0.92      4546\n",
            "        true       0.92      0.92      0.92      4265\n",
            "\n",
            "    accuracy                           0.92      8811\n",
            "   macro avg       0.92      0.92      0.92      8811\n",
            "weighted avg       0.92      0.92      0.92      8811\n",
            "\n"
          ]
        }
      ],
      "source": [
        "y_pred = bayesian_model.predict(x_test_vectorized)\n",
        "print(classification_report(y_test, y_pred))"
      ]
    },
    {
      "cell_type": "code",
      "execution_count": null,
      "metadata": {
        "id": "lpfCTRG609j_",
        "colab": {
          "base_uri": "https://localhost:8080/",
          "height": 368
        },
        "outputId": "1fba4999-40ad-4fa5-a651-16120957f79d"
      },
      "outputs": [
        {
          "output_type": "display_data",
          "data": {
            "text/plain": [
              "<Figure size 600x400 with 2 Axes>"
            ],
            "image/png": "[encoded data removed]"
          },
          "metadata": {}
        }
      ],
      "source": [
        "confusion_matrix = cm(y_test, y_pred)\n",
        "\n",
        "plt.figure(figsize=(6,4))\n",
        "sns.heatmap(confusion_matrix, annot=True, fmt='d', cmap='Oranges', xticklabels=['Fake', 'True'], yticklabels=['Fake', 'True'])\n",
        "plt.show()"
      ]
    },
    {
      "cell_type": "code",
      "execution_count": null,
      "metadata": {
        "id": "zr1gEgN509oc"
      },
      "outputs": [],
      "source": [
        "\"\"\" esporto in formato pickle\n",
        "\"\"\"\n",
        "with open('bayesian_model-pkl','wb') as file:\n",
        "    pickle.dump(bayesian_model, file)"
      ]
    },
    {
      "cell_type": "code",
      "execution_count": null,
      "metadata": {
        "id": "w3tqtS0z09wx"
      },
      "outputs": [],
      "source": [
        "\"\"\" testo il modello con una frase non presente nel df\n",
        "\"\"\"\n",
        "sentence = 'Hilary Clinton, in 2024, was elected President of the USA, marking a turning point in American history!'"
      ]
    },
    {
      "cell_type": "code",
      "execution_count": null,
      "metadata": {
        "id": "KAFzF_eW9SGj",
        "colab": {
          "base_uri": "https://localhost:8080/"
        },
        "outputId": "53804473-b75a-4d2d-fc63-5b8c7f511cde"
      },
      "outputs": [
        {
          "output_type": "execute_result",
          "data": {
            "text/plain": [
              "[['hilary',\n",
              "  'clinton',\n",
              "  'elect',\n",
              "  'president',\n",
              "  'mark',\n",
              "  'turn',\n",
              "  'american',\n",
              "  'history']]"
            ]
          },
          "metadata": {},
          "execution_count": 55
        }
      ],
      "source": [
        "\"\"\" pulisco la frase\n",
        "\"\"\"\n",
        "sentence_cleaned = preprocess_text([sentence])\n",
        "sentence_cleaned"
      ]
    },
    {
      "cell_type": "code",
      "execution_count": null,
      "metadata": {
        "id": "OrlSR8Jv9q5j"
      },
      "outputs": [],
      "source": [
        "sentence_cleaned = ' '.join(sentence_cleaned[0])"
      ]
    },
    {
      "cell_type": "code",
      "execution_count": null,
      "metadata": {
        "id": "5b_GRn-E-PIC",
        "colab": {
          "base_uri": "https://localhost:8080/"
        },
        "outputId": "f15ac8ad-f743-4cfc-e7b2-798600a72645"
      },
      "outputs": [
        {
          "output_type": "stream",
          "name": "stdout",
          "text": [
            "['fake']\n"
          ]
        }
      ],
      "source": [
        "\"\"\" machine learning model\n",
        "\"\"\"\n",
        "sentence_vectorized = vectorizer.transform([sentence_cleaned])\n",
        "prediction = lr_model.predict(sentence_vectorized)\n",
        "print(prediction)"
      ]
    },
    {
      "cell_type": "code",
      "execution_count": null,
      "metadata": {
        "id": "iaSdn4SY-PK4",
        "colab": {
          "base_uri": "https://localhost:8080/"
        },
        "outputId": "88d94f6c-fab9-40c3-a5d2-8cbecfb6498b"
      },
      "outputs": [
        {
          "output_type": "stream",
          "name": "stdout",
          "text": [
            "['fake']\n"
          ]
        }
      ],
      "source": [
        "\"\"\" NLP model\n",
        "\"\"\"\n",
        "sentence_vectorized = vectorizer.transform([sentence_cleaned])\n",
        "predction = bayesian_model.predict(sentence_vectorized)\n",
        "print(prediction)"
      ]
    }
  ],
  "metadata": {
    "colab": {
      "provenance": [],
      "authorship_tag": "ABX9TyMJRuv2P5HH/3deVkpUF+zV"
    },
    "kernelspec": {
      "display_name": "Python 3",
      "name": "python3"
    },
    "language_info": {
      "name": "python"
    }
  },
  "nbformat": 4,
  "nbformat_minor": 0
}